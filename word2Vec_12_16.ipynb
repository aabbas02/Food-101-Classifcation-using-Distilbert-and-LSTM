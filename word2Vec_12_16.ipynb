{
 "cells": [
  {
   "cell_type": "code",
   "execution_count": 1,
   "metadata": {},
   "outputs": [
    {
     "name": "stderr",
     "output_type": "stream",
     "text": [
      "c:\\virtual Environments\\food101\\Lib\\site-packages\\tqdm\\auto.py:21: TqdmWarning: IProgress not found. Please update jupyter and ipywidgets. See https://ipywidgets.readthedocs.io/en/stable/user_install.html\n",
      "  from .autonotebook import tqdm as notebook_tqdm\n"
     ]
    }
   ],
   "source": [
    "%load_ext autoreload\n",
    "%autoreload 2\n",
    "#%pip list\n",
    "import sys\n",
    "import pandas as pd\n",
    "import numpy as np\n",
    "import re\n",
    "import transformers\n",
    "from sklearn.preprocessing import LabelEncoder\n",
    "import os\n",
    "import re\n",
    "import plotly.express as px\n",
    "import plotly.graph_objects as go\n",
    "import torch\n",
    "import torch.nn as nn\n",
    "import sys\n",
    "import matplotlib.pyplot as plt"
   ]
  },
  {
   "cell_type": "code",
   "execution_count": 2,
   "metadata": {},
   "outputs": [
    {
     "name": "stdout",
     "output_type": "stream",
     "text": [
      "Note: you may need to restart the kernel to use updated packages.Requirement already satisfied: numpy in c:\\virtual environments\\food101\\lib\\site-packages (2.2.0)\n",
      "Requirement already satisfied: torchvision in c:\\virtual environments\\food101\\lib\\site-packages (0.20.1)\n",
      "Requirement already satisfied: torch==2.5.1 in c:\\virtual environments\\food101\\lib\\site-packages (from torchvision) (2.5.1)\n",
      "Requirement already satisfied: pillow!=8.3.*,>=5.3.0 in c:\\virtual environments\\food101\\lib\\site-packages (from torchvision) (11.0.0)\n",
      "Requirement already satisfied: filelock in c:\\virtual environments\\food101\\lib\\site-packages (from torch==2.5.1->torchvision) (3.16.1)\n",
      "Requirement already satisfied: typing-extensions>=4.8.0 in c:\\virtual environments\\food101\\lib\\site-packages (from torch==2.5.1->torchvision) (4.12.2)\n",
      "Requirement already satisfied: networkx in c:\\virtual environments\\food101\\lib\\site-packages (from torch==2.5.1->torchvision) (3.4.2)\n",
      "Requirement already satisfied: jinja2 in c:\\virtual environments\\food101\\lib\\site-packages (from torch==2.5.1->torchvision) (3.1.4)\n",
      "Requirement already satisfied: fsspec in c:\\virtual environments\\food101\\lib\\site-packages (from torch==2.5.1->torchvision) (2024.10.0)\n",
      "Requirement already satisfied: setuptools in c:\\virtual environments\\food101\\lib\\site-packages (from torch==2.5.1->torchvision) (75.6.0)\n",
      "Requirement already satisfied: sympy==1.13.1 in c:\\virtual environments\\food101\\lib\\site-packages (from torch==2.5.1->torchvision) (1.13.1)\n",
      "Requirement already satisfied: mpmath<1.4,>=1.1.0 in c:\\virtual environments\\food101\\lib\\site-packages (from sympy==1.13.1->torch==2.5.1->torchvision) (1.3.0)\n",
      "Requirement already satisfied: MarkupSafe>=2.0 in c:\\virtual environments\\food101\\lib\\site-packages (from jinja2->torch==2.5.1->torchvision) (3.0.2)\n",
      "\n"
     ]
    },
    {
     "name": "stderr",
     "output_type": "stream",
     "text": [
      "\n",
      "[notice] A new release of pip is available: 24.2 -> 24.3.1\n",
      "[notice] To update, run: python.exe -m pip install --upgrade pip\n"
     ]
    }
   ],
   "source": [
    "%pip install numpy torchvision --upgrade"
   ]
  },
  {
   "cell_type": "code",
   "execution_count": 3,
   "metadata": {},
   "outputs": [],
   "source": [
    "import os\n",
    "import pandas as pd\n",
    "from torchvision.io import read_image\n",
    "import torch\n",
    "from torch.utils.data import Dataset\n",
    "\n",
    "class customTextDataset(Dataset):\n",
    "    def __init__(self, path, colnames, maxLen, tokenizer=None): \n",
    "        self.data =  pd.read_csv(path, names=colnames, header=None, sep = ',', index_col=False)\n",
    "        self.tokenizer = tokenizer\n",
    "        self.maxLen = maxLen\n",
    "\n",
    "    def __getitem__(self, idx):\n",
    "        sentence = self.data.loc[idx].text\n",
    "        sentence = self.tokenizer(sentence,    padding='max_length', truncation=True,max_length=self.maxLen)['input_ids']\n",
    "        label = self.data.loc[idx].food\n",
    "        return torch.tensor(sentence),label\n",
    " \n",
    "    def __len__(self):\n",
    "        return len(self.data)\n",
    "\n",
    "    def getHead(self):\n",
    "        print(self.data.head())"
   ]
  },
  {
   "cell_type": "code",
   "execution_count": 4,
   "metadata": {},
   "outputs": [
    {
     "name": "stdout",
     "output_type": "stream",
     "text": [
      "Number of train samples  = 67972\n",
      "Number of test data points = 22716\n"
     ]
    }
   ],
   "source": [
    "from torch.utils.data import DataLoader\n",
    "from transformers import GPT2Tokenizer\n",
    "maxLen = 32\n",
    "batchSize = 512\n",
    "tokenizer = GPT2Tokenizer.from_pretrained('gpt2')\n",
    "if tokenizer.pad_token is None:\n",
    "    tokenizer.add_special_tokens({'pad_token': '[PAD]'})\n",
    "\n",
    "trainData = customTextDataset(path = 'train_titles.csv', colnames=['image_path', 'text', 'food'], tokenizer = tokenizer,maxLen=maxLen)\n",
    "trainLoader = DataLoader(trainData,batch_size=batchSize,shuffle=True)\n",
    "print(f'Number of train samples  = {trainData.__len__()}')\n",
    "#trainData.getHead()\n",
    "testData = customTextDataset(path = 'test_titles.csv', colnames=['image_path', 'text', 'food'], tokenizer = tokenizer,maxLen=maxLen)\n",
    "testLoader = DataLoader(testData,batch_size=testData.__len__(),shuffle=True)\n",
    "print(f\"Number of test data points = {testData.__len__()}\")"
   ]
  },
  {
   "cell_type": "code",
   "execution_count": 5,
   "metadata": {},
   "outputs": [
    {
     "name": "stdout",
     "output_type": "stream",
     "text": [
      "tensor([[   47,   395,    78, 19967,   420, 11072,   930,  4599,  2097, 19934,\n",
      "         50257, 50257, 50257, 50257, 50257, 50257, 50257, 50257, 50257, 50257,\n",
      "         50257, 50257, 50257, 50257, 50257, 50257, 50257, 50257, 50257, 50257,\n",
      "         50257, 50257],\n",
      "        [ 6592,   524,    68,  8278,  1222,  3808, 36129,    78,    26, 50257,\n",
      "         50257, 50257, 50257, 50257, 50257, 50257, 50257, 50257, 50257, 50257,\n",
      "         50257, 50257, 50257, 50257, 50257, 50257, 50257, 50257, 50257, 50257,\n",
      "         50257, 50257]])\n",
      "('gnocchi', 'croque_madame')\n"
     ]
    }
   ],
   "source": [
    "data = next(iter(trainLoader))\n",
    "print(data[0][0:2])\n",
    "print(data[1][0:2])"
   ]
  },
  {
   "cell_type": "markdown",
   "metadata": {},
   "source": [
    "# Convert categorical labels to numerical labels"
   ]
  },
  {
   "cell_type": "code",
   "execution_count": 6,
   "metadata": {},
   "outputs": [],
   "source": [
    "labelsTrain_ = []\n",
    "for data in trainLoader:\n",
    "    labelsTrain_ = labelsTrain_ + (list(data[1]))\n",
    "  \n",
    "from collections import Counter\n",
    "labelsDict = Counter(labelsTrain_)\n",
    "keys = labelsDict.keys()\n",
    "lblMap = {x:i for i,x in enumerate(keys)}"
   ]
  },
  {
   "cell_type": "code",
   "execution_count": 7,
   "metadata": {},
   "outputs": [],
   "source": [
    "class w2nModel(torch.nn.Module):\n",
    "    def __init__(self,vocab_size, embedding_dim, hidden_size, nClasses, padId):\n",
    "        super(w2nModel, self).__init__()\n",
    "        self.word_embeddings = nn.Embedding(vocab_size, embedding_dim)\n",
    "        self.LSTM = nn.LSTM(input_size = embedding_dim, hidden_size = hidden_size,batch_first=True)\n",
    "        #self.bn = nn.BatchNorm1d(hidden_size)\n",
    "        self.drop1 = nn.Dropout(p = 0.5)\n",
    "        self.FC1 = nn.Linear(hidden_size,256)\n",
    "        self.drop2 = nn.Dropout(p = 0.5)\n",
    "        self.FC2 = nn.Linear(256,nClasses)\n",
    "        self.Relu = torch.nn.ReLU()\n",
    "        self.padId = padId\n",
    "\n",
    "    def forward(self, x_):\n",
    "        x = self.word_embeddings(x_) # input dimensions are (batch size, sqeuenquence length) - output dimensions are (batch size, sequence length, feature size)\n",
    "        x[x_ == self.padId,:] = 0 # set rows, where each row is of dimension equal to feature size, corresponding to pad id = 0\n",
    "        (x,_) = self.LSTM(x)        \n",
    "        x = x[:, -1, :] # gives two dimensional output, not three dimensional output -  we are retaining the last hidden state                        \n",
    "        x = self.drop1(x)               \n",
    "        x = self.Relu(self.FC1(x))\n",
    "        x = self.drop2(x)\n",
    "        x = self.FC2(x)\n",
    "        return x"
   ]
  },
  {
   "attachments": {},
   "cell_type": "markdown",
   "metadata": {},
   "source": [
    "# Training"
   ]
  },
  {
   "cell_type": "code",
   "execution_count": 8,
   "metadata": {},
   "outputs": [
    {
     "name": "stdout",
     "output_type": "stream",
     "text": [
      "cpu\n",
      "w2nModel(\n",
      "  (word_embeddings): Embedding(50258, 100)\n",
      "  (LSTM): LSTM(100, 64, batch_first=True)\n",
      "  (drop1): Dropout(p=0.5, inplace=False)\n",
      "  (FC1): Linear(in_features=64, out_features=256, bias=True)\n",
      "  (drop2): Dropout(p=0.5, inplace=False)\n",
      "  (FC2): Linear(in_features=256, out_features=101, bias=True)\n",
      "  (Relu): ReLU()\n",
      ")\n"
     ]
    }
   ],
   "source": [
    "import numpy\n",
    "from transformers import GPT2Config\n",
    "import torch.optim as optim\n",
    "\n",
    "device = torch.device('cuda' if torch.cuda.is_available() else 'cpu')\n",
    "print(device)\n",
    "hidden_size = 64\n",
    "padId = tokenizer(tokenizer.pad_token)['input_ids'][0]\n",
    "dModel = 100\n",
    "config = GPT2Config()\n",
    "vocabSize = config.vocab_size\n",
    "numClasses = 101\n",
    "model = w2nModel(vocab_size = vocabSize+1, \n",
    "                 embedding_dim = dModel,\n",
    "                 hidden_size=hidden_size, nClasses = numClasses, padId = padId\n",
    "                )\n",
    "\n",
    "criterion = nn.CrossEntropyLoss()\n",
    "optimizer = optim.Adam(model.parameters(), lr = 0.005)\n",
    "lossVals = []\n",
    "model = model.to(device)\n",
    "print(model)"
   ]
  },
  {
   "cell_type": "code",
   "execution_count": 9,
   "metadata": {},
   "outputs": [
    {
     "name": "stdout",
     "output_type": "stream",
     "text": [
      "tensor(4.5705, grad_fn=<NllLossBackward0>)\n",
      "tensor(4.3642, grad_fn=<NllLossBackward0>)\n",
      "tensor(3.8480, grad_fn=<NllLossBackward0>)\n",
      "tensor(2.6160, grad_fn=<NllLossBackward0>)\n",
      "tensor(1.8141, grad_fn=<NllLossBackward0>)\n",
      "tensor(1.4197, grad_fn=<NllLossBackward0>)\n",
      "tensor(1.3514, grad_fn=<NllLossBackward0>)\n",
      "tensor(0.8985, grad_fn=<NllLossBackward0>)\n",
      "tensor(0.8280, grad_fn=<NllLossBackward0>)\n",
      "tensor(0.8643, grad_fn=<NllLossBackward0>)\n",
      "tensor(0.9247, grad_fn=<NllLossBackward0>)\n",
      "tensor(1.0364, grad_fn=<NllLossBackward0>)\n",
      "tensor(0.6146, grad_fn=<NllLossBackward0>)\n",
      "tensor(0.6688, grad_fn=<NllLossBackward0>)\n",
      "tensor(0.7755, grad_fn=<NllLossBackward0>)\n",
      "tensor(0.9130, grad_fn=<NllLossBackward0>)\n",
      "tensor(0.8142, grad_fn=<NllLossBackward0>)\n",
      "tensor(0.6772, grad_fn=<NllLossBackward0>)\n",
      "tensor(0.8041, grad_fn=<NllLossBackward0>)\n",
      "tensor(0.6107, grad_fn=<NllLossBackward0>)\n",
      "tensor(0.6975, grad_fn=<NllLossBackward0>)\n",
      "tensor(0.6879, grad_fn=<NllLossBackward0>)\n",
      "tensor(0.6546, grad_fn=<NllLossBackward0>)\n",
      "tensor(0.5643, grad_fn=<NllLossBackward0>)\n",
      "tensor(0.6189, grad_fn=<NllLossBackward0>)\n",
      "tensor(0.5743, grad_fn=<NllLossBackward0>)\n",
      "tensor(0.7663, grad_fn=<NllLossBackward0>)\n",
      "tensor(0.5123, grad_fn=<NllLossBackward0>)\n",
      "tensor(0.6444, grad_fn=<NllLossBackward0>)\n",
      "tensor(0.5745, grad_fn=<NllLossBackward0>)\n",
      "tensor(0.7440, grad_fn=<NllLossBackward0>)\n",
      "tensor(0.5479, grad_fn=<NllLossBackward0>)\n",
      "tensor(0.6424, grad_fn=<NllLossBackward0>)\n",
      "tensor(0.5606, grad_fn=<NllLossBackward0>)\n",
      "tensor(0.4452, grad_fn=<NllLossBackward0>)\n",
      "Finished Training\n"
     ]
    }
   ],
   "source": [
    "for epoch in range(35):  # loop over the dataset multiple times\n",
    "    for data in trainLoader:\n",
    "        inputs,labels_ = data\n",
    "        #inputs = inputs.to(device) \n",
    "        #labels = labels.to(device)\n",
    "        labels = torch.tensor([lblMap[x] for x in labels_])\n",
    "        optimizer.zero_grad()\n",
    "        outputs = model(inputs)\n",
    "        loss = criterion(outputs, labels)\n",
    "        loss.backward()\n",
    "        lossVals.append(loss.detach().cpu().clone().numpy())\n",
    "        optimizer.step()\n",
    "    if epoch%1 == 0:\n",
    "        print(loss)\n",
    "print('Finished Training')"
   ]
  },
  {
   "cell_type": "markdown",
   "metadata": {},
   "source": [
    "# Test Neural Net"
   ]
  },
  {
   "cell_type": "code",
   "execution_count": 10,
   "metadata": {},
   "outputs": [
    {
     "name": "stdout",
     "output_type": "stream",
     "text": [
      "22716\n",
      "Classification Accuracy is 82.400%\n"
     ]
    }
   ],
   "source": [
    "# again no gradients needed\n",
    "model.eval()\n",
    "correct_pred = 0\n",
    "numTst = 0\n",
    "with torch.no_grad():\n",
    "    for data in testLoader:\n",
    "        inputs, labels_ = data\n",
    "        numTst = numTst + inputs.shape[0]\n",
    "        labels = []\n",
    "        labels.append([lblMap[x] for x in labels_])\n",
    "        labels = torch.tensor(labels[0])\n",
    "\n",
    "        outputs = model(inputs)\n",
    "        _, predictions = torch.max(outputs, 1)\n",
    "        # collect the correct predictions for each class\n",
    "        for label, prediction in zip(labels, predictions):\n",
    "            if label == prediction:\n",
    "                correct_pred += 1\n",
    "\n",
    "accuracy = 100 * float(correct_pred)/ numTst\n",
    "print(numTst)\n",
    "print(f\"Classification Accuracy is {accuracy:.3f}%\")"
   ]
  },
  {
   "cell_type": "code",
   "execution_count": 11,
   "metadata": {},
   "outputs": [
    {
     "data": {
      "image/png": "[encoded data removed]",
      "text/plain": [
       "<Figure size 640x480 with 1 Axes>"
      ]
     },
     "metadata": {},
     "output_type": "display_data"
    }
   ],
   "source": [
    "import numpy as np\n",
    "fig, ax = plt.subplots(nrows = 1, ncols=1)\n",
    "ax.plot(range(len(lossVals)),lossVals)\n",
    "ax.set_xlabel('Iterations',fontsize = 15)\n",
    "ax.set_ylabel('Cross Entropy Loss', fontsize = 15)\n",
    "ax.set_title('Classification Accuracy = {:.2f}%'.format(accuracy),fontsize = 15)\n",
    "path = 'dim_{}_accry_{:.2f}len_{}_hidden_{}'.format(dModel,accuracy, maxLen,hidden_size)\n",
    "plt.savefig(path+'.pdf')"
   ]
  },
  {
   "attachments": {},
   "cell_type": "markdown",
   "metadata": {},
   "source": [
    "### Get 5 Most Error-Full Classes"
   ]
  },
  {
   "cell_type": "code",
   "execution_count": 12,
   "metadata": {},
   "outputs": [
    {
     "name": "stdout",
     "output_type": "stream",
     "text": [
      "c:\\Users\\vm-user\\Documents\\GitHub\\Food_101\\_accrcy_82.40_dim_100.pt\n"
     ]
    },
    {
     "name": "stderr",
     "output_type": "stream",
     "text": [
      "<>:2: SyntaxWarning: invalid escape sequence '\\_'\n",
      "<>:2: SyntaxWarning: invalid escape sequence '\\_'\n",
      "C:\\Users\\vm-user\\AppData\\Local\\Temp\\ipykernel_13508\\2978387619.py:2: SyntaxWarning: invalid escape sequence '\\_'\n",
      "  checkpoint_path = path+'\\_accrcy_{:.2f}_dim_{}.pt'.format(accuracy,dModel)\n"
     ]
    }
   ],
   "source": [
    "path = os.getcwd()\n",
    "checkpoint_path = path+'\\_accrcy_{:.2f}_dim_{}.pt'.format(accuracy,dModel)\n",
    "print(checkpoint_path)\n",
    "torch.save(model, checkpoint_path)"
   ]
  },
  {
   "attachments": {},
   "cell_type": "markdown",
   "metadata": {},
   "source": [
    "# SVM with LSTM \n",
    "### No Fully Connected Layers - just training SVM on LSTM outptut"
   ]
  },
  {
   "attachments": {},
   "cell_type": "markdown",
   "metadata": {},
   "source": [
    "## Declare LSTM model - no Fully Connected Layers"
   ]
  },
  {
   "cell_type": "code",
   "execution_count": 13,
   "metadata": {},
   "outputs": [
    {
     "ename": "AttributeError",
     "evalue": "'LSTM' object has no attribute 'weight'",
     "output_type": "error",
     "traceback": [
      "\u001b[1;31m---------------------------------------------------------------------------\u001b[0m",
      "\u001b[1;31mAttributeError\u001b[0m                            Traceback (most recent call last)",
      "Cell \u001b[1;32mIn[13], line 18\u001b[0m\n\u001b[0;32m     13\u001b[0m modelSVM \u001b[38;5;241m=\u001b[39m w2nModelSVM(vocab_size \u001b[38;5;241m=\u001b[39m vocabSize\u001b[38;5;241m+\u001b[39m\u001b[38;5;241m1\u001b[39m, \n\u001b[0;32m     14\u001b[0m                  embedding_dim \u001b[38;5;241m=\u001b[39m dModel,\n\u001b[0;32m     15\u001b[0m                  hidden_size\u001b[38;5;241m=\u001b[39mhidden_size, nClasses \u001b[38;5;241m=\u001b[39m numClasses\n\u001b[0;32m     16\u001b[0m                 )\n\u001b[0;32m     17\u001b[0m modelSVM\u001b[38;5;241m.\u001b[39mword_embeddings\u001b[38;5;241m.\u001b[39mweight\u001b[38;5;241m.\u001b[39mdata\u001b[38;5;241m.\u001b[39mcopy_((model\u001b[38;5;241m.\u001b[39mword_embeddings\u001b[38;5;241m.\u001b[39mweight))\n\u001b[1;32m---> 18\u001b[0m \u001b[43mmodelSVM\u001b[49m\u001b[38;5;241;43m.\u001b[39;49m\u001b[43mLSTM\u001b[49m\u001b[38;5;241;43m.\u001b[39;49m\u001b[43mweight\u001b[49m\u001b[38;5;241m.\u001b[39mdata\u001b[38;5;241m.\u001b[39mcopy_((model\u001b[38;5;241m.\u001b[39mLSTM\u001b[38;5;241m.\u001b[39mweight))\n",
      "File \u001b[1;32mc:\\virtual Environments\\food101\\Lib\\site-packages\\torch\\nn\\modules\\module.py:1931\u001b[0m, in \u001b[0;36mModule.__getattr__\u001b[1;34m(self, name)\u001b[0m\n\u001b[0;32m   1929\u001b[0m     \u001b[38;5;28;01mif\u001b[39;00m name \u001b[38;5;129;01min\u001b[39;00m modules:\n\u001b[0;32m   1930\u001b[0m         \u001b[38;5;28;01mreturn\u001b[39;00m modules[name]\n\u001b[1;32m-> 1931\u001b[0m \u001b[38;5;28;01mraise\u001b[39;00m \u001b[38;5;167;01mAttributeError\u001b[39;00m(\n\u001b[0;32m   1932\u001b[0m     \u001b[38;5;124mf\u001b[39m\u001b[38;5;124m\"\u001b[39m\u001b[38;5;124m'\u001b[39m\u001b[38;5;132;01m{\u001b[39;00m\u001b[38;5;28mtype\u001b[39m(\u001b[38;5;28mself\u001b[39m)\u001b[38;5;241m.\u001b[39m\u001b[38;5;18m__name__\u001b[39m\u001b[38;5;132;01m}\u001b[39;00m\u001b[38;5;124m'\u001b[39m\u001b[38;5;124m object has no attribute \u001b[39m\u001b[38;5;124m'\u001b[39m\u001b[38;5;132;01m{\u001b[39;00mname\u001b[38;5;132;01m}\u001b[39;00m\u001b[38;5;124m'\u001b[39m\u001b[38;5;124m\"\u001b[39m\n\u001b[0;32m   1933\u001b[0m )\n",
      "\u001b[1;31mAttributeError\u001b[0m: 'LSTM' object has no attribute 'weight'"
     ]
    }
   ],
   "source": [
    "class w2nModelSVM(torch.nn.Module):\n",
    "    def __init__(self,vocab_size, embedding_dim, hidden_size, nClasses):\n",
    "        super(w2nModelSVM, self).__init__()\n",
    "        self.word_embeddings = nn.Embedding(vocab_size, embedding_dim)\n",
    "        self.LSTM = nn.LSTM(input_size = embedding_dim, hidden_size = hidden_size,batch_first=True)\n",
    "\n",
    "    def forward(self, x):\n",
    "        x = self.word_embeddings(x)     # output dimensions is batch size = N x sequence length x feature size\n",
    "        (x,_) = self.LSTM(x)        \n",
    "        x = x[:, -1, :]                 # gives two dimensional output, not three dimensional output\n",
    "        return x\n",
    "\n",
    "modelSVM = w2nModelSVM(vocab_size = vocabSize+1, \n",
    "                 embedding_dim = dModel,\n",
    "                 hidden_size=hidden_size, nClasses = numClasses\n",
    "                )\n",
    "modelSVM.word_embeddings.weight.data.copy_((model.word_embeddings.weight))\n",
    "modelSVM.LSTM.load_state_dict(model.LSTM.state_dict())\n"
   ]
  },
  {
   "attachments": {},
   "cell_type": "markdown",
   "metadata": {},
   "source": [
    "## Get LSTM Embeddings for Train and Test Dataset"
   ]
  },
  {
   "cell_type": "code",
   "execution_count": 88,
   "metadata": {},
   "outputs": [],
   "source": [
    "numTrn = trainData.__len__()\n",
    "trnEmbdngs = np.zeros((numTrn,hidden_size))\n",
    "trnLbls  = []\n",
    "modelSVM.eval()\n",
    "for i, data in enumerate(trainLoader):\n",
    "    inputs,labels_ = data\n",
    "    outputs = modelSVM(inputs)\n",
    "    trnEmbdngs[i*batchSize: (i+1)*batchSize,:] = outputs.detach().clone().numpy()\n",
    "    trnLbls = trnLbls + [lblMap[x] for x in labels_]\n",
    "\n",
    "numTst = testData.__len__()\n",
    "tstEmbdngs = np.zeros((numTst,hidden_size))\n",
    "tstLbls = [] \n",
    "for i, data in enumerate(testLoader):\n",
    "    inputs,labels_ = data\n",
    "    labels =  []\n",
    "    outputs = modelSVM(inputs)\n",
    "    tstEmbdngs = outputs.detach().clone().numpy()\n",
    "    tstLbls = tstLbls + [lblMap[x] for x in labels_]"
   ]
  },
  {
   "attachments": {},
   "cell_type": "markdown",
   "metadata": {},
   "source": [
    "## Accuracy using Linear SVM\n"
   ]
  },
  {
   "cell_type": "code",
   "execution_count": 89,
   "metadata": {},
   "outputs": [
    {
     "name": "stdout",
     "output_type": "stream",
     "text": [
      "67972\n",
      "Train Accuracy of Linear SVM = 0.4662508091567116\n",
      "0.4367406233491812\n"
     ]
    }
   ],
   "source": [
    "from sklearn import svm\n",
    "print(len(trnLbls))\n",
    "clf = svm.SVC(decision_function_shape='ovo', kernel = 'linear')\n",
    "clf.fit(trnEmbdngs, np.asarray(trnLbls))\n",
    "TrnAccrcyLnr = clf.score(trnEmbdngs, np.asarray(trnLbls))\n",
    "TstAccrcyLnr = clf.score(tstEmbdngs,np.asarray(tstLbls))\n",
    "print(r'Train Accuracy of Linear SVM =', 100*TrnAccrcyLnr)\n",
    "print(TstAccrcyLnr)\n",
    "print(r'Test Accuracy of Linear SVM =', 100*TstAccrcyLnr)\n"
   ]
  },
  {
   "attachments": {},
   "cell_type": "markdown",
   "metadata": {},
   "source": [
    "## Accuracy using RBF Kernel SVM"
   ]
  },
  {
   "cell_type": "code",
   "execution_count": 90,
   "metadata": {},
   "outputs": [
    {
     "name": "stdout",
     "output_type": "stream",
     "text": [
      "0.39161713646795737\n",
      "0.36489698890649763\n"
     ]
    }
   ],
   "source": [
    "clf = svm.SVC(decision_function_shape='ovo', kernel='rbf')\n",
    "clf.fit(trnEmbdngs, trnLbls)\n",
    "TrnAccrcyKrnl = clf.score(trnEmbdngs, trnLbls)\n",
    "TstAccrcyKrnl = clf.score(tstEmbdngs,tstLbls)\n",
    "print(r'Train Accuracy of Kernel SVM =', 100*TrnAccrcyKrnl)\n",
    "print(TstAccrcyKrnl)\n",
    "print(r'Test Accuracy of Kernel SVM =', 100*TstAccrcyKrnl)"
   ]
  }
 ],
 "metadata": {
  "kernelspec": {
   "display_name": "food101",
   "language": "python",
   "name": "python3"
  },
  "language_info": {
   "codemirror_mode": {
    "name": "ipython",
    "version": 3
   },
   "file_extension": ".py",
   "mimetype": "text/x-python",
   "name": "python",
   "nbconvert_exporter": "python",
   "pygments_lexer": "ipython3",
   "version": "3.12.8"
  },
  "orig_nbformat": 4
 },
 "nbformat": 4,
 "nbformat_minor": 2
}
