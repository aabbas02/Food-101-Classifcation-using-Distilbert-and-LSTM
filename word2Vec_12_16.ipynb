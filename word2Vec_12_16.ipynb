{
 "cells": [
  {
   "cell_type": "code",
   "execution_count": 75,
   "metadata": {},
   "outputs": [
    {
     "name": "stdout",
     "output_type": "stream",
     "text": [
      "The autoreload extension is already loaded. To reload it, use:\n",
      "  %reload_ext autoreload\n"
     ]
    }
   ],
   "source": [
    "%load_ext autoreload\n",
    "%autoreload 2\n",
    "#%pip list\n",
    "import sys\n",
    "import pandas as pd\n",
    "import numpy as np\n",
    "import re\n",
    "import transformers\n",
    "from sklearn.preprocessing import LabelEncoder\n",
    "import os\n",
    "import re\n",
    "import plotly.express as px\n",
    "import plotly.graph_objects as go\n",
    "import torch\n",
    "import torch.nn as nn\n",
    "import sys\n",
    "import matplotlib.pyplot as plt"
   ]
  },
  {
   "cell_type": "code",
   "execution_count": 76,
   "metadata": {},
   "outputs": [
    {
     "name": "stdout",
     "output_type": "stream",
     "text": [
      "Requirement already satisfied: numpy in c:\\virtual environments\\food101\\lib\\site-packages (2.2.0)\n",
      "Requirement already satisfied: torchvision in c:\\virtual environments\\food101\\lib\\site-packages (0.20.1)\n",
      "Requirement already satisfied: torch==2.5.1 in c:\\virtual environments\\food101\\lib\\site-packages (from torchvision) (2.5.1)\n",
      "Requirement already satisfied: pillow!=8.3.*,>=5.3.0 in c:\\virtual environments\\food101\\lib\\site-packages (from torchvision) (11.0.0)\n",
      "Requirement already satisfied: filelock in c:\\virtual environments\\food101\\lib\\site-packages (from torch==2.5.1->torchvision) (3.16.1)\n",
      "Requirement already satisfied: typing-extensions>=4.8.0 in c:\\virtual environments\\food101\\lib\\site-packages (from torch==2.5.1->torchvision) (4.12.2)\n",
      "Requirement already satisfied: networkx in c:\\virtual environments\\food101\\lib\\site-packages (from torch==2.5.1->torchvision) (3.4.2)\n",
      "Requirement already satisfied: jinja2 in c:\\virtual environments\\food101\\lib\\site-packages (from torch==2.5.1->torchvision) (3.1.4)\n",
      "Requirement already satisfied: fsspec in c:\\virtual environments\\food101\\lib\\site-packages (from torch==2.5.1->torchvision) (2024.10.0)\n",
      "Requirement already satisfied: setuptools in c:\\virtual environments\\food101\\lib\\site-packages (from torch==2.5.1->torchvision) (75.6.0)\n",
      "Requirement already satisfied: sympy==1.13.1 in c:\\virtual environments\\food101\\lib\\site-packages (from torch==2.5.1->torchvision) (1.13.1)\n",
      "Requirement already satisfied: mpmath<1.4,>=1.1.0 in c:\\virtual environments\\food101\\lib\\site-packages (from sympy==1.13.1->torch==2.5.1->torchvision) (1.3.0)\n",
      "Requirement already satisfied: MarkupSafe>=2.0 in c:\\virtual environments\\food101\\lib\\site-packages (from jinja2->torch==2.5.1->torchvision) (3.0.2)\n",
      "Note: you may need to restart the kernel to use updated packages.\n"
     ]
    },
    {
     "name": "stderr",
     "output_type": "stream",
     "text": [
      "\n",
      "[notice] A new release of pip is available: 24.2 -> 24.3.1\n",
      "[notice] To update, run: python.exe -m pip install --upgrade pip\n"
     ]
    }
   ],
   "source": [
    "%pip install numpy torchvision --upgrade"
   ]
  },
  {
   "cell_type": "code",
   "execution_count": 77,
   "metadata": {},
   "outputs": [],
   "source": [
    "import os\n",
    "import pandas as pd\n",
    "from torchvision.io import read_image\n",
    "import torch\n",
    "from torch.utils.data import Dataset\n",
    "\n",
    "class customTextDataset(Dataset):\n",
    "    def __init__(self, path, colnames, maxLen, tokenizer=None): \n",
    "        self.data =  pd.read_csv(path, names=colnames, header=None, sep = ',', index_col=False)\n",
    "        self.tokenizer = tokenizer\n",
    "        self.maxLen = maxLen\n",
    "\n",
    "    def __getitem__(self, idx):\n",
    "        sentence = self.data.loc[idx].text\n",
    "        sentence = self.tokenizer(sentence,    padding='max_length', truncation=True,max_length=self.maxLen)['input_ids']\n",
    "        label = self.data.loc[idx].food\n",
    "        return torch.tensor(sentence),label\n",
    " \n",
    "    def __len__(self):\n",
    "        return len(self.data)\n",
    "\n",
    "    def getHead(self):\n",
    "        print(self.data.head())"
   ]
  },
  {
   "cell_type": "code",
   "execution_count": 78,
   "metadata": {},
   "outputs": [
    {
     "name": "stdout",
     "output_type": "stream",
     "text": [
      "Number of train samples  = 67972\n",
      "Number of test data points = 22716\n"
     ]
    }
   ],
   "source": [
    "from torch.utils.data import DataLoader\n",
    "from transformers import GPT2Tokenizer\n",
    "maxLen = 32\n",
    "batchSize = 512\n",
    "tokenizer = GPT2Tokenizer.from_pretrained('gpt2')\n",
    "if tokenizer.pad_token is None:\n",
    "    tokenizer.add_special_tokens({'pad_token': '[PAD]'})\n",
    "\n",
    "trainData = customTextDataset(path = 'train_titles.csv', colnames=['image_path', 'text', 'food'], tokenizer = tokenizer,maxLen=maxLen)\n",
    "trainLoader = DataLoader(trainData,batch_size=batchSize,shuffle=True)\n",
    "print(f'Number of train samples  = {trainData.__len__()}')\n",
    "#trainData.getHead()\n",
    "testData = customTextDataset(path = 'test_titles.csv', colnames=['image_path', 'text', 'food'], tokenizer = tokenizer,maxLen=maxLen)\n",
    "testLoader = DataLoader(testData,batch_size=testData.__len__(),shuffle=True)\n",
    "print(f\"Number of test data points = {testData.__len__()}\")"
   ]
  },
  {
   "cell_type": "code",
   "execution_count": 79,
   "metadata": {},
   "outputs": [
    {
     "name": "stdout",
     "output_type": "stream",
     "text": [
      "tensor([[ 4561,   259,   620,    12, 29988,  1496, 13388,   351,  2297, 20920,\n",
      "           286,  2629, 14002,  3467, 27705,    17,    59,    87,  1795,    59,\n",
      "            87,  6052, 44229,  3467, 27705,    17,    59,    87,  1795,    59,\n",
      "            87,  6052],\n",
      "        [14539,  2787,   316, 26694,   532,  1126,  1326, 18145,  7197, 50257,\n",
      "         50257, 50257, 50257, 50257, 50257, 50257, 50257, 50257, 50257, 50257,\n",
      "         50257, 50257, 50257, 50257, 50257, 50257, 50257, 50257, 50257, 50257,\n",
      "         50257, 50257]])\n",
      "('mussels', 'chocolate_mousse')\n"
     ]
    }
   ],
   "source": [
    "data = next(iter(trainLoader))\n",
    "print(data[0][0:2])\n",
    "print(data[1][0:2])"
   ]
  },
  {
   "cell_type": "markdown",
   "metadata": {},
   "source": [
    "# Convert categorical labels to numerical labels"
   ]
  },
  {
   "cell_type": "code",
   "execution_count": 80,
   "metadata": {},
   "outputs": [],
   "source": [
    "labelsTrain_ = []\n",
    "for data in trainLoader:\n",
    "    labelsTrain_ = labelsTrain_ + (list(data[1]))\n",
    "  \n",
    "from collections import Counter\n",
    "labelsDict = Counter(labelsTrain_)\n",
    "keys = labelsDict.keys()\n",
    "lblMap = {x:i for i,x in enumerate(keys)}"
   ]
  },
  {
   "cell_type": "code",
   "execution_count": 81,
   "metadata": {},
   "outputs": [],
   "source": [
    "class w2nModel(torch.nn.Module):\n",
    "    def __init__(self,vocab_size, embedding_dim, hidden_size, nClasses, padId):\n",
    "        super(w2nModel, self).__init__()\n",
    "        self.word_embeddings = nn.Embedding(vocab_size, embedding_dim)\n",
    "        self.LSTM = nn.LSTM(input_size = embedding_dim, hidden_size = hidden_size,batch_first=True)\n",
    "        #self.bn = nn.BatchNorm1d(hidden_size)\n",
    "        self.drop1 = nn.Dropout(p = 0.5)\n",
    "        self.FC1 = nn.Linear(hidden_size,256)\n",
    "        self.drop2 = nn.Dropout(p = 0.5)\n",
    "        self.FC2 = nn.Linear(256,nClasses)\n",
    "        self.Relu = torch.nn.ReLU()\n",
    "        self.padId = padId\n",
    "\n",
    "    def forward(self, x_):\n",
    "        x = self.word_embeddings(x_) # input dimensions are (batch size, sqeuenquence length) - output dimensions are (batch size, sequence length, feature size)\n",
    "        x[x_ == self.padId,:] = 0 # set rows, where each row is of dimension equal to feature size, corresponding to pad id = 0\n",
    "        (x,_) = self.LSTM(x)        \n",
    "        x = x[:, -1, :] # gives two dimensional output, not three dimensional output -  we are retaining the last hidden state                        \n",
    "        x = self.drop1(x)               \n",
    "        x = self.Relu(self.FC1(x))\n",
    "        x = self.drop2(x)\n",
    "        x = self.FC2(x)\n",
    "        return x"
   ]
  },
  {
   "attachments": {},
   "cell_type": "markdown",
   "metadata": {},
   "source": [
    "# Training"
   ]
  },
  {
   "cell_type": "code",
   "execution_count": 82,
   "metadata": {},
   "outputs": [
    {
     "name": "stdout",
     "output_type": "stream",
     "text": [
      "cpu\n",
      "w2nModel(\n",
      "  (word_embeddings): Embedding(50258, 100)\n",
      "  (LSTM): LSTM(100, 64, batch_first=True)\n",
      "  (drop1): Dropout(p=0.5, inplace=False)\n",
      "  (FC1): Linear(in_features=64, out_features=256, bias=True)\n",
      "  (drop2): Dropout(p=0.5, inplace=False)\n",
      "  (FC2): Linear(in_features=256, out_features=101, bias=True)\n",
      "  (Relu): ReLU()\n",
      ")\n"
     ]
    }
   ],
   "source": [
    "import numpy\n",
    "from transformers import GPT2Config\n",
    "import torch.optim as optim\n",
    "\n",
    "device = torch.device('cuda' if torch.cuda.is_available() else 'cpu')\n",
    "print(device)\n",
    "hidden_size = 64\n",
    "padId = tokenizer(tokenizer.pad_token)['input_ids'][0]\n",
    "dModel = 100\n",
    "config = GPT2Config()\n",
    "vocabSize = config.vocab_size\n",
    "numClasses = 101\n",
    "model = w2nModel(vocab_size = vocabSize+1, \n",
    "                 embedding_dim = dModel,\n",
    "                 hidden_size=hidden_size, nClasses = numClasses, padId = padId\n",
    "                )\n",
    "\n",
    "criterion = nn.CrossEntropyLoss()\n",
    "optimizer = optim.Adam(model.parameters(), lr = 0.005)\n",
    "lossVals = []\n",
    "model = model.to(device)\n",
    "print(model)"
   ]
  },
  {
   "cell_type": "code",
   "execution_count": 83,
   "metadata": {},
   "outputs": [
    {
     "name": "stdout",
     "output_type": "stream",
     "text": [
      "tensor(4.5705, grad_fn=<NllLossBackward0>)\n",
      "tensor(4.4978, grad_fn=<NllLossBackward0>)\n",
      "tensor(4.3462, grad_fn=<NllLossBackward0>)\n",
      "tensor(4.0476, grad_fn=<NllLossBackward0>)\n",
      "tensor(2.9443, grad_fn=<NllLossBackward0>)\n",
      "tensor(2.0561, grad_fn=<NllLossBackward0>)\n",
      "tensor(1.6322, grad_fn=<NllLossBackward0>)\n",
      "tensor(1.2631, grad_fn=<NllLossBackward0>)\n",
      "tensor(1.0649, grad_fn=<NllLossBackward0>)\n",
      "tensor(0.9617, grad_fn=<NllLossBackward0>)\n",
      "tensor(0.9958, grad_fn=<NllLossBackward0>)\n",
      "tensor(0.9301, grad_fn=<NllLossBackward0>)\n",
      "tensor(0.8959, grad_fn=<NllLossBackward0>)\n",
      "tensor(0.9526, grad_fn=<NllLossBackward0>)\n",
      "tensor(0.9889, grad_fn=<NllLossBackward0>)\n",
      "tensor(0.7951, grad_fn=<NllLossBackward0>)\n",
      "tensor(0.9189, grad_fn=<NllLossBackward0>)\n",
      "tensor(0.7686, grad_fn=<NllLossBackward0>)\n",
      "tensor(0.8670, grad_fn=<NllLossBackward0>)\n",
      "tensor(0.8632, grad_fn=<NllLossBackward0>)\n",
      "tensor(0.8474, grad_fn=<NllLossBackward0>)\n",
      "tensor(0.6746, grad_fn=<NllLossBackward0>)\n",
      "tensor(0.7486, grad_fn=<NllLossBackward0>)\n",
      "tensor(0.6764, grad_fn=<NllLossBackward0>)\n",
      "tensor(0.8034, grad_fn=<NllLossBackward0>)\n",
      "tensor(0.6989, grad_fn=<NllLossBackward0>)\n",
      "tensor(0.6305, grad_fn=<NllLossBackward0>)\n",
      "tensor(0.5797, grad_fn=<NllLossBackward0>)\n",
      "tensor(0.5837, grad_fn=<NllLossBackward0>)\n",
      "tensor(0.6290, grad_fn=<NllLossBackward0>)\n",
      "tensor(0.5163, grad_fn=<NllLossBackward0>)\n",
      "tensor(0.4677, grad_fn=<NllLossBackward0>)\n",
      "tensor(0.6709, grad_fn=<NllLossBackward0>)\n",
      "tensor(0.5654, grad_fn=<NllLossBackward0>)\n",
      "tensor(0.4985, grad_fn=<NllLossBackward0>)\n",
      "Finished Training\n"
     ]
    }
   ],
   "source": [
    "for epoch in range(35):  # loop over the dataset multiple times\n",
    "    for data in trainLoader:\n",
    "        inputs,labels_ = data\n",
    "        #labels = []\n",
    "        #labels.append([lblMap[x] for x in labels_])\n",
    "        #labels = torch.tensor(labels[0])\n",
    "        #inputs = inputs.to(device) \n",
    "        #labels = labels.to(device)\n",
    "        labels = torch.tensor([lblMap[x] for x in labels_])\n",
    "        optimizer.zero_grad()\n",
    "        outputs = model(inputs)\n",
    "        loss = criterion(outputs, labels)\n",
    "        loss.backward()\n",
    "        lossVals.append(loss.detach().cpu().clone().numpy())\n",
    "        optimizer.step()\n",
    "    if epoch%1 == 0:\n",
    "        print(loss)\n",
    "print('Finished Training')"
   ]
  },
  {
   "cell_type": "markdown",
   "metadata": {},
   "source": [
    "# Test Neural Net"
   ]
  },
  {
   "cell_type": "code",
   "execution_count": 84,
   "metadata": {},
   "outputs": [
    {
     "name": "stdout",
     "output_type": "stream",
     "text": [
      "22716\n",
      "Classification Accuracy is 82.096%\n"
     ]
    }
   ],
   "source": [
    "# again no gradients needed\n",
    "model.eval()\n",
    "correct_pred = 0\n",
    "numTst = 0\n",
    "with torch.no_grad():\n",
    "    for data in testLoader:\n",
    "        inputs, labels_ = data\n",
    "        numTst = numTst + inputs.shape[0]\n",
    "        labels = []\n",
    "        labels.append([lblMap[x] for x in labels_])\n",
    "        labels = torch.tensor(labels[0])\n",
    "\n",
    "        outputs = model(inputs)\n",
    "        _, predictions = torch.max(outputs, 1)\n",
    "        # collect the correct predictions for each class\n",
    "        for label, prediction in zip(labels, predictions):\n",
    "            if label == prediction:\n",
    "                correct_pred += 1\n",
    "\n",
    "accuracy = 100 * float(correct_pred)/ numTst\n",
    "print(numTst)\n",
    "print(f\"Classification Accuracy is {accuracy:.3f}%\")"
   ]
  },
  {
   "cell_type": "code",
   "execution_count": 85,
   "metadata": {},
   "outputs": [
    {
     "data": {
      "image/png": "[encoded data removed]",
      "text/plain": [
       "<Figure size 640x480 with 1 Axes>"
      ]
     },
     "metadata": {},
     "output_type": "display_data"
    }
   ],
   "source": [
    "import numpy as np\n",
    "fig, ax = plt.subplots(nrows = 1, ncols=1)\n",
    "ax.plot(range(len(lossVals)),lossVals)\n",
    "ax.set_xlabel('Iterations',fontsize = 15)\n",
    "ax.set_ylabel('Cross Entropy Loss', fontsize = 15)\n",
    "ax.set_title('Classification Accuracy = {:.2f}%'.format(accuracy),fontsize = 15)\n",
    "path = 'dim_{}_accry_{:.2f}len_{}_hidden_{}'.format(dModel,accuracy, maxLen,hidden_size)\n",
    "plt.savefig(path+'.pdf')"
   ]
  },
  {
   "attachments": {},
   "cell_type": "markdown",
   "metadata": {},
   "source": [
    "### Get 5 Most Error-Full Classes"
   ]
  },
  {
   "cell_type": "code",
   "execution_count": 86,
   "metadata": {},
   "outputs": [
    {
     "name": "stderr",
     "output_type": "stream",
     "text": [
      "<>:2: SyntaxWarning: invalid escape sequence '\\_'\n",
      "<>:2: SyntaxWarning: invalid escape sequence '\\_'\n",
      "C:\\Users\\vm-user\\AppData\\Local\\Temp\\ipykernel_6504\\2978387619.py:2: SyntaxWarning: invalid escape sequence '\\_'\n",
      "  checkpoint_path = path+'\\_accrcy_{:.2f}_dim_{}.pt'.format(accuracy,dModel)\n"
     ]
    },
    {
     "name": "stdout",
     "output_type": "stream",
     "text": [
      "c:\\Users\\vm-user\\Documents\\GitHub\\Food_101\\_accrcy_82.10_dim_100.pt\n"
     ]
    }
   ],
   "source": [
    "path = os.getcwd()\n",
    "checkpoint_path = path+'\\_accrcy_{:.2f}_dim_{}.pt'.format(accuracy,dModel)\n",
    "print(checkpoint_path)\n",
    "torch.save(model, checkpoint_path)"
   ]
  },
  {
   "attachments": {},
   "cell_type": "markdown",
   "metadata": {},
   "source": [
    "# SVM with LSTM \n",
    "### No Fully Connected Layers - just training SVM on LSTM outptut"
   ]
  },
  {
   "attachments": {},
   "cell_type": "markdown",
   "metadata": {},
   "source": [
    "## Declare LSTM model - no Fully Connected Layers"
   ]
  },
  {
   "cell_type": "code",
   "execution_count": 87,
   "metadata": {},
   "outputs": [],
   "source": [
    "class w2nModelSVM(torch.nn.Module):\n",
    "    def __init__(self,vocab_size, embedding_dim, hidden_size, nClasses):\n",
    "        super(w2nModelSVM, self).__init__()\n",
    "        self.word_embeddings = nn.Embedding(vocab_size, embedding_dim)\n",
    "        self.LSTM = nn.LSTM(input_size = embedding_dim, hidden_size = hidden_size,batch_first=True)\n",
    "\n",
    "    def forward(self, x):\n",
    "        x = self.word_embeddings(x)     # output dimensions is batch size = N x sequence length x feature size\n",
    "        (x,_) = self.LSTM(x)        \n",
    "        x = x[:, -1, :]                 # gives two dimensional output, not three dimensional output\n",
    "        return x\n",
    "\n",
    "modelSVM = w2nModelSVM(vocab_size = vocabSize+1, \n",
    "                 embedding_dim = dModel,\n",
    "                 hidden_size=hidden_size, nClasses = numClasses\n",
    "                )\n",
    "modelSVM.word_embeddings.weight.data.copy_((model.word_embeddings.weight))\n",
    "modelSVM.LSTM.weight.data.copy_((model.LSTM.weight))\n",
    "#modelSVM.word_embeddings.weight.requires_grad=False\n",
    "#modelSVM.LSTM.load_state_dict(model.LSTM.state_dict())\n"
   ]
  },
  {
   "attachments": {},
   "cell_type": "markdown",
   "metadata": {},
   "source": [
    "## Get LSTM Embeddings for Train and Test Dataset"
   ]
  },
  {
   "cell_type": "code",
   "execution_count": 88,
   "metadata": {},
   "outputs": [],
   "source": [
    "numTrn = trainData.__len__()\n",
    "trnEmbdngs = np.zeros((numTrn,hidden_size))\n",
    "trnLbls  = []\n",
    "modelSVM.eval()\n",
    "for i, data in enumerate(trainLoader):\n",
    "    inputs,labels_ = data\n",
    "    outputs = modelSVM(inputs)\n",
    "    trnEmbdngs[i*batchSize: (i+1)*batchSize,:] = outputs.detach().clone().numpy()\n",
    "    trnLbls = trnLbls + [lblMap[x] for x in labels_]\n",
    "\n",
    "numTst = testData.__len__()\n",
    "tstEmbdngs = np.zeros((numTst,hidden_size))\n",
    "tstLbls = [] \n",
    "for i, data in enumerate(testLoader):\n",
    "    inputs,labels_ = data\n",
    "    labels =  []\n",
    "    outputs = modelSVM(inputs)\n",
    "    tstEmbdngs = outputs.detach().clone().numpy()\n",
    "    tstLbls = tstLbls + [lblMap[x] for x in labels_]"
   ]
  },
  {
   "attachments": {},
   "cell_type": "markdown",
   "metadata": {},
   "source": [
    "## Accuracy using Linear SVM\n"
   ]
  },
  {
   "cell_type": "code",
   "execution_count": 89,
   "metadata": {},
   "outputs": [
    {
     "name": "stdout",
     "output_type": "stream",
     "text": [
      "67972\n",
      "Train Accuracy of Linear SVM = 0.4662508091567116\n",
      "0.4367406233491812\n"
     ]
    }
   ],
   "source": [
    "from sklearn import svm\n",
    "print(len(trnLbls))\n",
    "clf = svm.SVC(decision_function_shape='ovo', kernel = 'linear')\n",
    "clf.fit(trnEmbdngs, np.asarray(trnLbls))\n",
    "TrnAccrcyLnr = clf.score(trnEmbdngs, np.asarray(trnLbls))\n",
    "TstAccrcyLnr = clf.score(tstEmbdngs,np.asarray(tstLbls))\n",
    "print(r'Train Accuracy of Linear SVM =', 100*TrnAccrcyLnr)\n",
    "print(TstAccrcyLnr)\n",
    "print(r'Test Accuracy of Linear SVM =', 100*TstAccrcyLnr)\n"
   ]
  },
  {
   "attachments": {},
   "cell_type": "markdown",
   "metadata": {},
   "source": [
    "## Accuracy using RBF Kernel SVM"
   ]
  },
  {
   "cell_type": "code",
   "execution_count": 90,
   "metadata": {},
   "outputs": [
    {
     "name": "stdout",
     "output_type": "stream",
     "text": [
      "0.39161713646795737\n",
      "0.36489698890649763\n"
     ]
    }
   ],
   "source": [
    "clf = svm.SVC(decision_function_shape='ovo', kernel='rbf')\n",
    "clf.fit(trnEmbdngs, trnLbls)\n",
    "TrnAccrcyKrnl = clf.score(trnEmbdngs, trnLbls)\n",
    "TstAccrcyKrnl = clf.score(tstEmbdngs,tstLbls)\n",
    "print(r'Train Accuracy of Kernel SVM =', 100*TrnAccrcyKrnl)\n",
    "print(TstAccrcyKrnl)\n",
    "print(r'Test Accuracy of Kernel SVM =', 100*TstAccrcyKrnl)"
   ]
  }
 ],
 "metadata": {
  "kernelspec": {
   "display_name": "food101",
   "language": "python",
   "name": "python3"
  },
  "language_info": {
   "codemirror_mode": {
    "name": "ipython",
    "version": 3
   },
   "file_extension": ".py",
   "mimetype": "text/x-python",
   "name": "python",
   "nbconvert_exporter": "python",
   "pygments_lexer": "ipython3",
   "version": "3.12.8"
  },
  "orig_nbformat": 4
 },
 "nbformat": 4,
 "nbformat_minor": 2
}
