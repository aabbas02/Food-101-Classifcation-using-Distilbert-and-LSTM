{
 "cells": [
  {
   "cell_type": "code",
   "execution_count": 20,
   "metadata": {},
   "outputs": [
    {
     "name": "stdout",
     "output_type": "stream",
     "text": [
      "The autoreload extension is already loaded. To reload it, use:\n",
      "  %reload_ext autoreload\n"
     ]
    }
   ],
   "source": [
    "%load_ext autoreload\n",
    "%autoreload 2\n",
    "import sys\n",
    "import pandas as pd\n",
    "import numpy as np\n",
    "import transformers\n",
    "import os\n",
    "import re\n",
    "import plotly.express as px\n",
    "import plotly.graph_objects as go\n",
    "import torch\n",
    "import torch.nn as nn\n",
    "import sys\n",
    "import matplotlib.pyplot as plt"
   ]
  },
  {
   "cell_type": "markdown",
   "metadata": {},
   "source": [
    "# PREPROCESSING "
   ]
  },
  {
   "cell_type": "markdown",
   "metadata": {},
   "source": [
    "##  1) Custom Dataset Class\n",
    "#### Implement a map-style dataset from .csv files; needed because data files train_titles.csv and test_titles.csv cannot be directly passed to the dataloader"
   ]
  },
  {
   "cell_type": "code",
   "execution_count": 21,
   "metadata": {},
   "outputs": [],
   "source": [
    "import os\n",
    "import pandas as pd\n",
    "from torchvision.io import read_image\n",
    "import torch\n",
    "from torch.utils.data import Dataset\n",
    "\n",
    "class customTextDataset(Dataset):\n",
    "    def __init__(self, path, colnames, maxLen, tokenizer=None): \n",
    "        self.data =  pd.read_csv(path, names=colnames, header=None, sep = ',', index_col=False)\n",
    "        self.tokenizer = tokenizer\n",
    "        self.maxLen = maxLen\n",
    "\n",
    "    def __getitem__(self, idx):\n",
    "        sentence = self.data.loc[idx].text\n",
    "        ids = self.tokenizer(self.tokenizer.bos_token + ' ' + sentence + ' ' + self.tokenizer.eos_token,  padding = 'max_length', truncation = True, max_length = self.maxLen)['input_ids']\n",
    "        ids = torch.tensor(ids)\n",
    "        # mask\n",
    "        padId = torch.unsqueeze(torch.tensor(self.tokenizer.encode(self.tokenizer.pad_token)[0]),axis=-1)\n",
    "        mask = (ids == padId)\n",
    "        mask = mask.repeat(self.maxLen,1)\n",
    "        label = self.data.loc[idx].food\n",
    "        return ids, mask, label\n",
    "        #return torch.tensor(ids),label # torch.tensor(sentence), mask, label\n",
    " \n",
    "    def __len__(self):\n",
    "        return len(self.data)\n",
    "\n",
    "    def getHead(self):\n",
    "        print(self.data.head())"
   ]
  },
  {
   "cell_type": "markdown",
   "metadata": {},
   "source": [
    "## 2) GPT2 Tokenizer using Huggingface"
   ]
  },
  {
   "cell_type": "code",
   "execution_count": 22,
   "metadata": {},
   "outputs": [
    {
     "name": "stdout",
     "output_type": "stream",
     "text": [
      "Number of added tokens = 4\n",
      "TokenIds = (50257, 50258, 50259, 50260)\n"
     ]
    }
   ],
   "source": [
    "from torch.utils.data import DataLoader\n",
    "maxLen = 32\n",
    "batchSize = 512\n",
    "from transformers import GPT2Tokenizer\n",
    "tokenizer = GPT2Tokenizer.from_pretrained('gpt2')\n",
    "numAdded = tokenizer.add_special_tokens({'pad_token': '[PAD]', 'bos_token':'[BOS]','eos_token':'[EOS]','unk_token':'[UNK]'})\n",
    "print(f'Number of added tokens = {numAdded}')\n",
    "padId,bosId,eosId,unkId  = (tokenizer.encode(tokenizer.pad_token)[0], tokenizer.encode(tokenizer.bos_token)[0], tokenizer.encode(tokenizer.eos_token)[0], tokenizer.encode(tokenizer.unk_token)[0]) \n",
    "print(f'TokenIds = {padId, bosId, eosId,unkId}')\n",
    "vocabSize = len(tokenizer)"
   ]
  },
  {
   "cell_type": "markdown",
   "metadata": {},
   "source": [
    "## 3) Create Dataloaders from Custom Text Dataset"
   ]
  },
  {
   "cell_type": "code",
   "execution_count": 23,
   "metadata": {},
   "outputs": [
    {
     "name": "stdout",
     "output_type": "stream",
     "text": [
      "Number of train data points  = 67972\n",
      "Number of test data points = 22716\n"
     ]
    }
   ],
   "source": [
    "trainData = customTextDataset(path = 'train_titles.csv', colnames=['image_path', 'text', 'food'], tokenizer = tokenizer,maxLen=maxLen)\n",
    "trainLoader = DataLoader(trainData,batch_size=batchSize,shuffle=True)\n",
    "print(f'Number of train data points  = {trainData.__len__()}')\n",
    "#trainData.getHead()\n",
    "testData = customTextDataset(path = 'test_titles.csv', colnames=['image_path', 'text', 'food'], tokenizer = tokenizer,maxLen=maxLen)\n",
    "testLoader = DataLoader(testData,batch_size=testData.__len__(),shuffle=True)\n",
    "print(f\"Number of test data points = {testData.__len__()}\")"
   ]
  },
  {
   "cell_type": "markdown",
   "metadata": {},
   "source": [
    "#### Print an example data point (tokens/tokenIds) and label"
   ]
  },
  {
   "cell_type": "code",
   "execution_count": 24,
   "metadata": {},
   "outputs": [
    {
     "name": "stdout",
     "output_type": "stream",
     "text": [
      "Encoded Text = tensor([50258, 16789, 16405, 15442, 13823, 26694,   220, 50259, 50257, 50257,\n",
      "        50257, 50257, 50257, 50257, 50257, 50257, 50257, 50257, 50257, 50257,\n",
      "        50257, 50257, 50257, 50257, 50257, 50257, 50257, 50257, 50257, 50257,\n",
      "        50257, 50257])\n",
      "Mask = tensor([False, False, False, False, False, False, False, False,  True,  True,\n",
      "         True,  True,  True,  True,  True,  True,  True,  True,  True,  True,\n",
      "         True,  True,  True,  True,  True,  True,  True,  True,  True,  True,\n",
      "         True,  True]), torch.BoolTensor, torch.Size([32, 32])\n",
      "Encoded Label = fried_rice\n",
      "Check - Decoded tokens from encoded ids: \n",
      "[BOS] Easy Chicken Fried Rice Recipe [EOS][PAD][PAD][PAD][PAD][PAD][PAD][PAD][PAD][PAD][PAD][PAD][PAD][PAD][PAD][PAD][PAD][PAD][PAD][PAD][PAD][PAD][PAD][PAD][PAD]\n"
     ]
    }
   ],
   "source": [
    "data = next(iter(trainLoader))\n",
    "print(f\"Encoded Text = {data[0][0]}\")\n",
    "print(f\"Mask = {data[1][0][0]}, {data[1][0].type()}, {data[1][0].shape}\")\n",
    "print(f\"Encoded Label = {data[2][0]}\")\n",
    "print(f\"Check - Decoded tokens from encoded ids: \\n{tokenizer.decode(data[0][0])}\")"
   ]
  },
  {
   "cell_type": "markdown",
   "metadata": {},
   "source": [
    "## 4) Convert categorical labels (recipe names) to numerical labels ({0,1,2,....101})"
   ]
  },
  {
   "cell_type": "code",
   "execution_count": 25,
   "metadata": {},
   "outputs": [],
   "source": [
    "labelsTrain_ = []\n",
    "for data in trainLoader:\n",
    "    labelsTrain_ = labelsTrain_ + (list(data[2]))\n",
    "  \n",
    "from collections import Counter\n",
    "labelsDict = Counter(labelsTrain_)\n",
    "keys = labelsDict.keys()\n",
    "lblMap = {x:i for i,x in enumerate(keys)}"
   ]
  },
  {
   "cell_type": "markdown",
   "metadata": {},
   "source": [
    "# LSTM + FEEDFORWARD MODEL"
   ]
  },
  {
   "cell_type": "code",
   "execution_count": 26,
   "metadata": {},
   "outputs": [],
   "source": [
    "class trnsfrmrClassifier(torch.nn.Module):\n",
    "    def __init__(self,vocab_size, embedding_dim, hidden_size, nClasses, padId):\n",
    "        super(trnsfrmrClassifier, self).__init__()\n",
    "        self.word_embeddings = nn.Embedding(vocab_size, embedding_dim)\n",
    "        #self.LSTM = nn.LSTM(input_size = embedding_dim, hidden_size = hidden_size,batch_first=True)\n",
    "        #self.bn = nn.BatchNorm1d(hidden_size)\n",
    "        self.FC0 = nn.Linear(32,1)\n",
    "        self.drop1 = nn.Dropout(p = 0.5)\n",
    "        self.FC1 = nn.Linear(hidden_size,256)\n",
    "        self.drop2 = nn.Dropout(p = 0.5)\n",
    "        self.FC2 = nn.Linear(256,nClasses)\n",
    "        self.Relu = torch.nn.ReLU()\n",
    "        self.padId = padId\n",
    "        self.encoder_layer = nn.TransformerEncoderLayer(d_model=embedding_dim, nhead=1,batch_first=True)\n",
    "        \n",
    "\n",
    "    def forward(self, x_,mask):\n",
    "        x = self.word_embeddings(x_) # input dimensions are (batch size, sqeuenquence length) - output dimensions are (batch size, sequence length, feature size)\n",
    "        #LSTM\n",
    "        #x[x_ == self.padId, :] = 0 # set rows, where each row is of dimension equal to feature size, corresponding to pad id = 0\n",
    "        #(x,_) = self.LSTM(x)        \n",
    "        #x = x[:, -1, :] # gives two dimensional output, not three dimensional output -  we are retaining the last hidden state          \n",
    "        # Transformer Ecnoder\n",
    "        x = self.encoder_layer(src = x, src_mask = mask) # output is number of words x embedding_dim\n",
    "        x = self.FC0.forward((torch.transpose(x,1,2)))\n",
    "        x = self.drop1(x)               \n",
    "        x = torch.squeeze(x,axis = -1)\n",
    "        x = self.Relu(self.FC1(x))\n",
    "        x = self.drop2(x)\n",
    "        x = self.FC2(x)\n",
    "        return x"
   ]
  },
  {
   "cell_type": "code",
   "execution_count": 27,
   "metadata": {},
   "outputs": [
    {
     "name": "stdout",
     "output_type": "stream",
     "text": [
      "trnsfrmrClassifier(\n",
      "  (word_embeddings): Embedding(50261, 100)\n",
      "  (FC0): Linear(in_features=32, out_features=1, bias=True)\n",
      "  (drop1): Dropout(p=0.5, inplace=False)\n",
      "  (FC1): Linear(in_features=100, out_features=256, bias=True)\n",
      "  (drop2): Dropout(p=0.5, inplace=False)\n",
      "  (FC2): Linear(in_features=256, out_features=101, bias=True)\n",
      "  (Relu): ReLU()\n",
      "  (encoder_layer): TransformerEncoderLayer(\n",
      "    (self_attn): MultiheadAttention(\n",
      "      (out_proj): NonDynamicallyQuantizableLinear(in_features=100, out_features=100, bias=True)\n",
      "    )\n",
      "    (linear1): Linear(in_features=100, out_features=2048, bias=True)\n",
      "    (dropout): Dropout(p=0.1, inplace=False)\n",
      "    (linear2): Linear(in_features=2048, out_features=100, bias=True)\n",
      "    (norm1): LayerNorm((100,), eps=1e-05, elementwise_affine=True)\n",
      "    (norm2): LayerNorm((100,), eps=1e-05, elementwise_affine=True)\n",
      "    (dropout1): Dropout(p=0.1, inplace=False)\n",
      "    (dropout2): Dropout(p=0.1, inplace=False)\n",
      "  )\n",
      ")\n"
     ]
    }
   ],
   "source": [
    "import numpy\n",
    "from transformers import GPT2Config\n",
    "import torch.optim as optim\n",
    "\n",
    "device = torch.device('cuda' if torch.cuda.is_available() else 'cpu')\n",
    "hidden_size = 100\n",
    "dModel = 100\n",
    "numClasses = 101\n",
    "model = trnsfrmrClassifier(vocab_size=vocabSize, \n",
    "                 embedding_dim = dModel,\n",
    "                 hidden_size=hidden_size, nClasses = numClasses, padId = padId\n",
    "                )\n",
    "\n",
    "criterion = nn.CrossEntropyLoss()\n",
    "optimizer = optim.Adam(model.parameters(), lr = 0.005)\n",
    "lossVals = []\n",
    "model = model.to(device)\n",
    "print(model)"
   ]
  },
  {
   "cell_type": "markdown",
   "metadata": {},
   "source": [
    "## 1) Train LSTM + Feedforward Model"
   ]
  },
  {
   "cell_type": "code",
   "execution_count": 28,
   "metadata": {},
   "outputs": [
    {
     "name": "stdout",
     "output_type": "stream",
     "text": [
      "Epoch = 0. Loss = 1.7971256971359253\n",
      "Epoch = 1. Loss = 1.2508472204208374\n",
      "Epoch = 2. Loss = 1.1485995054244995\n",
      "Epoch = 3. Loss = 1.1220030784606934\n",
      "Epoch = 4. Loss = 0.9266741275787354\n",
      "Epoch = 5. Loss = 0.8125954866409302\n",
      "Epoch = 6. Loss = 0.8648331761360168\n",
      "Epoch = 7. Loss = 0.7927772998809814\n",
      "Epoch = 8. Loss = 0.8183512687683105\n",
      "Epoch = 9. Loss = 0.7625884413719177\n",
      "Epoch = 10. Loss = 0.6449345946311951\n",
      "Epoch = 11. Loss = 0.6503838896751404\n",
      "Epoch = 12. Loss = 0.6329066753387451\n",
      "Epoch = 13. Loss = 0.7060551047325134\n",
      "Epoch = 14. Loss = 0.581666111946106\n",
      "Epoch = 15. Loss = 0.6687570214271545\n",
      "Epoch = 16. Loss = 0.6020787954330444\n",
      "Epoch = 17. Loss = 0.5149263739585876\n",
      "Epoch = 18. Loss = 0.501137375831604\n",
      "Epoch = 19. Loss = 0.5107213258743286\n",
      "Epoch = 20. Loss = 0.7387729287147522\n",
      "Epoch = 21. Loss = 0.476144403219223\n",
      "Epoch = 22. Loss = 0.6128604412078857\n",
      "Epoch = 23. Loss = 0.4852675497531891\n",
      "Epoch = 24. Loss = 0.5000078678131104\n",
      "Epoch = 25. Loss = 0.5523467063903809\n",
      "Epoch = 26. Loss = 0.5903548002243042\n",
      "Epoch = 27. Loss = 0.49140095710754395\n",
      "Epoch = 28. Loss = 0.4540567696094513\n",
      "Epoch = 29. Loss = 0.5144966840744019\n",
      "Epoch = 30. Loss = 0.39860349893569946\n",
      "Epoch = 31. Loss = 0.5919973850250244\n",
      "Epoch = 32. Loss = 0.3287319839000702\n",
      "Epoch = 33. Loss = 0.3279193937778473\n",
      "Epoch = 34. Loss = 0.3655465543270111\n",
      "Finished Training\n"
     ]
    }
   ],
   "source": [
    "for epoch in range(35):  # loop over the dataset multiple times\n",
    "    for data in trainLoader:\n",
    "        ids,masks,labels_ = data\n",
    "        labels = torch.tensor([lblMap[x] for x in labels_])\n",
    "        optimizer.zero_grad()\n",
    "        outputs = model(ids,masks)\n",
    "        loss = criterion(outputs, labels)\n",
    "        loss.backward()\n",
    "        lossVals.append(loss.detach().cpu().clone().numpy())\n",
    "        optimizer.step()\n",
    "    if epoch%1 == 0:\n",
    "        print(f\"Epoch = {epoch}. Loss = {loss}\")\n",
    "print('Finished Training')"
   ]
  },
  {
   "cell_type": "markdown",
   "metadata": {},
   "source": [
    "## 2) Test LSTM + Feedforward Model"
   ]
  },
  {
   "cell_type": "code",
   "execution_count": 29,
   "metadata": {},
   "outputs": [
    {
     "name": "stdout",
     "output_type": "stream",
     "text": [
      "Classification Accuracy = 84.024%\n"
     ]
    }
   ],
   "source": [
    "model.eval() # again no gradients needed - so set mode.eval()\n",
    "correct_pred = 0\n",
    "numTst = 0\n",
    "with torch.no_grad():\n",
    "    for data in testLoader:\n",
    "        ids,_,labels_ = data\n",
    "        numTst = numTst + ids.shape[0]\n",
    "        labels = []\n",
    "        labels.append([lblMap[x] for x in labels_])\n",
    "        labels = torch.tensor(labels[0])\n",
    "        outputs = model(ids,_)\n",
    "        _, predictions = torch.max(outputs, 1)\n",
    "        # collect the correct predictions for each class\n",
    "        for label, prediction in zip(labels, predictions):\n",
    "            if label == prediction:\n",
    "                correct_pred += 1\n",
    "\n",
    "accuracy = 100 * float(correct_pred)/ numTst\n",
    "print(f\"Classification Accuracy = {accuracy:.3f}%\")"
   ]
  },
  {
   "cell_type": "code",
   "execution_count": 30,
   "metadata": {},
   "outputs": [
    {
     "data": {
      "image/png": "[encoded data removed]",
      "text/plain": [
       "<Figure size 640x480 with 1 Axes>"
      ]
     },
     "metadata": {},
     "output_type": "display_data"
    }
   ],
   "source": [
    "import numpy as np\n",
    "fig, ax = plt.subplots(nrows = 1, ncols=1)\n",
    "ax.plot(range(len(lossVals)),lossVals)\n",
    "ax.set_xlabel('Iterations',fontsize = 15)\n",
    "ax.set_ylabel('Cross Entropy Loss', fontsize = 15)\n",
    "ax.set_title('Classification Accuracy = {:.2f}%'.format(accuracy),fontsize = 15)\n",
    "path = 'dim_{}_accry_{:.2f}len_{}_hidden_{}'.format(dModel,accuracy, maxLen,hidden_size)\n",
    "plt.savefig(path+'.pdf')"
   ]
  },
  {
   "attachments": {},
   "cell_type": "markdown",
   "metadata": {},
   "source": [
    "# SVM With LSTM \n",
    "### Instead of the 2 fully connected layers and 1 soft-max layer in the LSTM model above, we use multi-class SVM for classification below."
   ]
  },
  {
   "attachments": {},
   "cell_type": "markdown",
   "metadata": {},
   "source": [
    "## 1) Declare LSTM model and load trained weights."
   ]
  },
  {
   "cell_type": "code",
   "execution_count": 31,
   "metadata": {},
   "outputs": [
    {
     "ename": "AttributeError",
     "evalue": "'trnsfrmrClassifier' object has no attribute 'LSTM'",
     "output_type": "error",
     "traceback": [
      "\u001b[1;31m---------------------------------------------------------------------------\u001b[0m",
      "\u001b[1;31mAttributeError\u001b[0m                            Traceback (most recent call last)",
      "Cell \u001b[1;32mIn[31], line 18\u001b[0m\n\u001b[0;32m     13\u001b[0m modelSVM \u001b[38;5;241m=\u001b[39m w2nModelSVM(vocab_size \u001b[38;5;241m=\u001b[39m vocabSize, \n\u001b[0;32m     14\u001b[0m                  embedding_dim \u001b[38;5;241m=\u001b[39m dModel,\n\u001b[0;32m     15\u001b[0m                  hidden_size\u001b[38;5;241m=\u001b[39mhidden_size, nClasses \u001b[38;5;241m=\u001b[39m numClasses\n\u001b[0;32m     16\u001b[0m                 )\n\u001b[0;32m     17\u001b[0m modelSVM\u001b[38;5;241m.\u001b[39mword_embeddings\u001b[38;5;241m.\u001b[39mweight\u001b[38;5;241m.\u001b[39mdata\u001b[38;5;241m.\u001b[39mcopy_((model\u001b[38;5;241m.\u001b[39mword_embeddings\u001b[38;5;241m.\u001b[39mweight))\n\u001b[1;32m---> 18\u001b[0m modelSVM\u001b[38;5;241m.\u001b[39mLSTM\u001b[38;5;241m.\u001b[39mload_state_dict(\u001b[43mmodel\u001b[49m\u001b[38;5;241;43m.\u001b[39;49m\u001b[43mLSTM\u001b[49m\u001b[38;5;241m.\u001b[39mstate_dict())\n",
      "File \u001b[1;32mc:\\virtual Environments\\food101\\Lib\\site-packages\\torch\\nn\\modules\\module.py:1931\u001b[0m, in \u001b[0;36mModule.__getattr__\u001b[1;34m(self, name)\u001b[0m\n\u001b[0;32m   1929\u001b[0m     \u001b[38;5;28;01mif\u001b[39;00m name \u001b[38;5;129;01min\u001b[39;00m modules:\n\u001b[0;32m   1930\u001b[0m         \u001b[38;5;28;01mreturn\u001b[39;00m modules[name]\n\u001b[1;32m-> 1931\u001b[0m \u001b[38;5;28;01mraise\u001b[39;00m \u001b[38;5;167;01mAttributeError\u001b[39;00m(\n\u001b[0;32m   1932\u001b[0m     \u001b[38;5;124mf\u001b[39m\u001b[38;5;124m\"\u001b[39m\u001b[38;5;124m'\u001b[39m\u001b[38;5;132;01m{\u001b[39;00m\u001b[38;5;28mtype\u001b[39m(\u001b[38;5;28mself\u001b[39m)\u001b[38;5;241m.\u001b[39m\u001b[38;5;18m__name__\u001b[39m\u001b[38;5;132;01m}\u001b[39;00m\u001b[38;5;124m'\u001b[39m\u001b[38;5;124m object has no attribute \u001b[39m\u001b[38;5;124m'\u001b[39m\u001b[38;5;132;01m{\u001b[39;00mname\u001b[38;5;132;01m}\u001b[39;00m\u001b[38;5;124m'\u001b[39m\u001b[38;5;124m\"\u001b[39m\n\u001b[0;32m   1933\u001b[0m )\n",
      "\u001b[1;31mAttributeError\u001b[0m: 'trnsfrmrClassifier' object has no attribute 'LSTM'"
     ]
    }
   ],
   "source": [
    "class w2nModelSVM(torch.nn.Module):\n",
    "    def __init__(self,vocab_size, embedding_dim, hidden_size, nClasses):\n",
    "        super(w2nModelSVM, self).__init__()\n",
    "        self.word_embeddings = nn.Embedding(vocab_size, embedding_dim)\n",
    "        self.LSTM = nn.LSTM(input_size = embedding_dim, hidden_size = hidden_size,batch_first=True)\n",
    "\n",
    "    def forward(self, x):\n",
    "        x = self.word_embeddings(x)     # output dimensions is batch size = N x sequence length x feature size\n",
    "        (x,_) = self.LSTM(x)        \n",
    "        x = x[:, -1, :]                 # gives two dimensional output, not three dimensional output\n",
    "        return x\n",
    "\n",
    "modelSVM = w2nModelSVM(vocab_size = vocabSize, \n",
    "                 embedding_dim = dModel,\n",
    "                 hidden_size=hidden_size, nClasses = numClasses\n",
    "                )\n",
    "modelSVM.word_embeddings.weight.data.copy_((model.word_embeddings.weight))\n",
    "modelSVM.LSTM.load_state_dict(model.LSTM.state_dict())"
   ]
  },
  {
   "attachments": {},
   "cell_type": "markdown",
   "metadata": {},
   "source": [
    "## 2) Get LSTM Embeddings for Train and Test Dataset"
   ]
  },
  {
   "cell_type": "code",
   "execution_count": 14,
   "metadata": {},
   "outputs": [],
   "source": [
    "numTrn = trainData.__len__()\n",
    "trnEmbdngs = np.zeros((numTrn,hidden_size))\n",
    "trnLbls  = []\n",
    "modelSVM.eval()\n",
    "for i, data in enumerate(trainLoader):\n",
    "    inputs,labels_ = data\n",
    "    outputs = modelSVM(inputs)\n",
    "    trnEmbdngs[i*batchSize: (i+1)*batchSize,:] = outputs.detach().clone().numpy()\n",
    "    trnLbls = trnLbls + [lblMap[x] for x in labels_]\n",
    "\n",
    "numTst = testData.__len__()\n",
    "tstEmbdngs = np.zeros((numTst,hidden_size))\n",
    "tstLbls = [] \n",
    "for i, data in enumerate(testLoader):\n",
    "    inputs,labels_ = data\n",
    "    labels =  []\n",
    "    outputs = modelSVM(inputs)\n",
    "    tstEmbdngs = outputs.detach().clone().numpy()\n",
    "    tstLbls = tstLbls + [lblMap[x] for x in labels_]"
   ]
  },
  {
   "attachments": {},
   "cell_type": "markdown",
   "metadata": {},
   "source": [
    "## 3) Accuracy using Linear SVM\n"
   ]
  },
  {
   "cell_type": "code",
   "execution_count": null,
   "metadata": {},
   "outputs": [],
   "source": [
    "from sklearn import svm\n",
    "clf = svm.SVC(decision_function_shape='ovo', kernel = 'linear')\n",
    "clf.fit(trnEmbdngs, np.asarray(trnLbls))\n",
    "TrnAccrcyLnr = clf.score(trnEmbdngs, np.asarray(trnLbls))\n",
    "TstAccrcyLnr = clf.score(tstEmbdngs,np.asarray(tstLbls))\n",
    "print(r'Train Accuracy of Linear SVM =', 100*TrnAccrcyLnr)\n",
    "print(r'Test Accuracy of Linear SVM =', 100*TstAccrcyLnr)"
   ]
  },
  {
   "attachments": {},
   "cell_type": "markdown",
   "metadata": {},
   "source": [
    "## 4) Accuracy using RBF Kernel SVM"
   ]
  },
  {
   "cell_type": "code",
   "execution_count": null,
   "metadata": {},
   "outputs": [],
   "source": [
    "clf = svm.SVC(decision_function_shape='ovo', kernel='rbf')\n",
    "clf.fit(trnEmbdngs, trnLbls)\n",
    "TrnAccrcyKrnl = clf.score(trnEmbdngs, trnLbls)\n",
    "TstAccrcyKrnl = clf.score(tstEmbdngs,tstLbls)\n",
    "print(r'Train Accuracy of Kernel SVM =', 100*TrnAccrcyKrnl)\n",
    "print(r'Test Accuracy of Kernel SVM =', 100*TstAccrcyKrnl)"
   ]
  }
 ],
 "metadata": {
  "kernelspec": {
   "display_name": "food101",
   "language": "python",
   "name": "python3"
  },
  "language_info": {
   "codemirror_mode": {
    "name": "ipython",
    "version": 3
   },
   "file_extension": ".py",
   "mimetype": "text/x-python",
   "name": "python",
   "nbconvert_exporter": "python",
   "pygments_lexer": "ipython3",
   "version": "3.12.8"
  },
  "orig_nbformat": 4
 },
 "nbformat": 4,
 "nbformat_minor": 2
}
