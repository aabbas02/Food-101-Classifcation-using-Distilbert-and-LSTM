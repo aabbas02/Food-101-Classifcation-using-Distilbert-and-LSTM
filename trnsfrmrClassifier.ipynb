{
 "cells": [
  {
   "cell_type": "code",
   "execution_count": 1,
   "metadata": {},
   "outputs": [
    {
     "name": "stderr",
     "output_type": "stream",
     "text": [
      "c:\\virtual Environments\\food101\\Lib\\site-packages\\tqdm\\auto.py:21: TqdmWarning: IProgress not found. Please update jupyter and ipywidgets. See https://ipywidgets.readthedocs.io/en/stable/user_install.html\n",
      "  from .autonotebook import tqdm as notebook_tqdm\n"
     ]
    }
   ],
   "source": [
    "%load_ext autoreload\n",
    "%autoreload 2\n",
    "import sys\n",
    "import pandas as pd\n",
    "import numpy as np\n",
    "import transformers\n",
    "import os\n",
    "import re\n",
    "import plotly.express as px\n",
    "import plotly.graph_objects as go\n",
    "import torch\n",
    "import torch.nn as nn\n",
    "import sys\n",
    "import matplotlib.pyplot as plt"
   ]
  },
  {
   "cell_type": "markdown",
   "metadata": {},
   "source": [
    "# PREPROCESSING "
   ]
  },
  {
   "cell_type": "markdown",
   "metadata": {},
   "source": [
    "##  1) Custom Dataset Class\n",
    "#### Implement a map-style dataset from .csv files; needed because data files train_titles.csv and test_titles.csv cannot be directly passed to the dataloader"
   ]
  },
  {
   "cell_type": "code",
   "execution_count": 2,
   "metadata": {},
   "outputs": [],
   "source": [
    "import os\n",
    "import pandas as pd\n",
    "from torchvision.io import read_image\n",
    "import torch\n",
    "from torch.utils.data import Dataset\n",
    "\n",
    "class customTextDataset(Dataset):\n",
    "    def __init__(self, path, colnames, maxLen, tokenizer=None): \n",
    "        self.data =  pd.read_csv(path, names=colnames, header=None, sep = ',', index_col=False)\n",
    "        self.tokenizer = tokenizer\n",
    "        self.maxLen = maxLen\n",
    "\n",
    "    def __getitem__(self, idx):\n",
    "        sentence = self.data.loc[idx].text\n",
    "        ids = self.tokenizer(self.tokenizer.bos_token + ' ' + sentence + ' ' + self.tokenizer.eos_token,  padding = 'max_length', truncation = True, max_length = self.maxLen)['input_ids']\n",
    "        ids = torch.tensor(ids)\n",
    "        # mask\n",
    "        padId = torch.unsqueeze(torch.tensor(self.tokenizer.encode(self.tokenizer.pad_token)[0]),axis=-1)\n",
    "        mask = (ids == padId)\n",
    "        mask = mask.repeat(self.maxLen,1)\n",
    "        label = self.data.loc[idx].food\n",
    "        return ids, mask, label\n",
    "        #return torch.tensor(ids),label # torch.tensor(sentence), mask, label\n",
    " \n",
    "    def __len__(self):\n",
    "        return len(self.data)\n",
    "\n",
    "    def getHead(self):\n",
    "        print(self.data.head())"
   ]
  },
  {
   "cell_type": "markdown",
   "metadata": {},
   "source": [
    "## 2) GPT2 Tokenizer using Huggingface"
   ]
  },
  {
   "cell_type": "code",
   "execution_count": 3,
   "metadata": {},
   "outputs": [
    {
     "name": "stdout",
     "output_type": "stream",
     "text": [
      "Number of added tokens = 4\n",
      "TokenIds = (50257, 50258, 50259, 50260)\n"
     ]
    }
   ],
   "source": [
    "from torch.utils.data import DataLoader\n",
    "maxLen = 32\n",
    "batchSize = 512\n",
    "from transformers import GPT2Tokenizer\n",
    "tokenizer = GPT2Tokenizer.from_pretrained('gpt2')\n",
    "numAdded = tokenizer.add_special_tokens({'pad_token': '[PAD]', 'bos_token':'[BOS]','eos_token':'[EOS]','unk_token':'[UNK]'})\n",
    "print(f'Number of added tokens = {numAdded}')\n",
    "padId,bosId,eosId,unkId  = (tokenizer.encode(tokenizer.pad_token)[0], tokenizer.encode(tokenizer.bos_token)[0], tokenizer.encode(tokenizer.eos_token)[0], tokenizer.encode(tokenizer.unk_token)[0]) \n",
    "print(f'TokenIds = {padId, bosId, eosId,unkId}')\n",
    "vocabSize = len(tokenizer)"
   ]
  },
  {
   "cell_type": "markdown",
   "metadata": {},
   "source": [
    "## 3) Create Dataloaders from Custom Text Dataset"
   ]
  },
  {
   "cell_type": "code",
   "execution_count": 4,
   "metadata": {},
   "outputs": [
    {
     "name": "stdout",
     "output_type": "stream",
     "text": [
      "Number of train data points  = 67972\n",
      "Number of test data points = 22716\n"
     ]
    }
   ],
   "source": [
    "trainData = customTextDataset(path = 'train_titles.csv', colnames=['image_path', 'text', 'food'], tokenizer = tokenizer,maxLen=maxLen)\n",
    "trainLoader = DataLoader(trainData,batch_size=batchSize,shuffle=True)\n",
    "print(f'Number of train data points  = {trainData.__len__()}')\n",
    "#trainData.getHead()\n",
    "testData = customTextDataset(path = 'test_titles.csv', colnames=['image_path', 'text', 'food'], tokenizer = tokenizer,maxLen=maxLen)\n",
    "testLoader = DataLoader(testData,batch_size=testData.__len__(),shuffle=True)\n",
    "print(f\"Number of test data points = {testData.__len__()}\")"
   ]
  },
  {
   "cell_type": "markdown",
   "metadata": {},
   "source": [
    "#### Print an example data point (tokens/tokenIds) and label"
   ]
  },
  {
   "cell_type": "code",
   "execution_count": 5,
   "metadata": {},
   "outputs": [
    {
     "name": "stdout",
     "output_type": "stream",
     "text": [
      "Encoded Text = tensor([50258, 24777, 40058, 28731, 26694,   930,  6245,   454,   383, 14001,\n",
      "           25, 33774, 11102,     5,     2,    15,  2670,    26,    82, 26694,\n",
      "          290,  7318, 14001,   220, 50259, 50257, 50257, 50257, 50257, 50257,\n",
      "        50257, 50257])\n",
      "Mask = tensor([False, False, False, False, False, False, False, False, False, False,\n",
      "        False, False, False, False, False, False, False, False, False, False,\n",
      "        False, False, False, False, False,  True,  True,  True,  True,  True,\n",
      "         True,  True]), torch.BoolTensor, torch.Size([32, 32])\n",
      "Encoded Label = bread_pudding\n",
      "Check - Decoded tokens from encoded ids: \n",
      "[BOS] Chocolate Banana Bread Recipe | Devour The Blog: Cooking Channel&#039;s Recipe and Food Blog [EOS][PAD][PAD][PAD][PAD][PAD][PAD][PAD]\n"
     ]
    }
   ],
   "source": [
    "data = next(iter(trainLoader))\n",
    "print(f\"Encoded Text = {data[0][0]}\")\n",
    "print(f\"Mask = {data[1][0][0]}, {data[1][0].type()}, {data[1][0].shape}\")\n",
    "print(f\"Encoded Label = {data[2][0]}\")\n",
    "print(f\"Check - Decoded tokens from encoded ids: \\n{tokenizer.decode(data[0][0])}\")"
   ]
  },
  {
   "cell_type": "markdown",
   "metadata": {},
   "source": [
    "## 4) Convert categorical labels (recipe names) to numerical labels ({0,1,2,....101})"
   ]
  },
  {
   "cell_type": "code",
   "execution_count": 6,
   "metadata": {},
   "outputs": [],
   "source": [
    "labelsTrain_ = []\n",
    "for data in trainLoader:\n",
    "    labelsTrain_ = labelsTrain_ + (list(data[2]))\n",
    "  \n",
    "from collections import Counter\n",
    "labelsDict = Counter(labelsTrain_)\n",
    "keys = labelsDict.keys()\n",
    "lblMap = {x:i for i,x in enumerate(keys)}"
   ]
  },
  {
   "cell_type": "markdown",
   "metadata": {},
   "source": [
    "# LSTM + FEEDFORWARD MODEL"
   ]
  },
  {
   "cell_type": "code",
   "execution_count": 7,
   "metadata": {},
   "outputs": [],
   "source": [
    "class trnsfrmrClassifier(torch.nn.Module):\n",
    "    def __init__(self,vocab_size, embedding_dim, hidden_size, nClasses, padId, maxLen):\n",
    "        super(trnsfrmrClassifier, self).__init__()\n",
    "        self.word_embeddings = nn.Embedding(vocab_size, embedding_dim)\n",
    "        self.encoder_layer = nn.TransformerEncoderLayer(d_model=embedding_dim, nhead=8,batch_first=True)\n",
    "        self.FC0 = nn.Linear(maxLen,1)\n",
    "        self.drop1 = nn.Dropout(p = 0.5)\n",
    "        self.FC1 = nn.Linear(hidden_size,256)\n",
    "        self.drop2 = nn.Dropout(p = 0.5)\n",
    "        self.FC2 = nn.Linear(256,nClasses)\n",
    "        self.Relu = torch.nn.ReLU()\n",
    "        self.padId = padId\n",
    "        \n",
    "\n",
    "    def forward(self, x_,mask):\n",
    "        x = self.word_embeddings(x_) # input dimensions are (batch size, sqeuenquence length) - output dimensions are (batch size, sequence length, feature size)\n",
    "        # Transformer Ecnoder\n",
    "        x = self.encoder_layer(src = x, src_mask = mask) # output is number of words x embedding_dim\n",
    "        x = self.FC0.forward((torch.transpose(x,1,2)))\n",
    "        x = torch.squeeze(x,axis = -1)\n",
    "        x = self.drop1(x)               \n",
    "        x = self.Relu(self.FC1(x))\n",
    "        x = self.drop2(x)\n",
    "        x = self.FC2(x)\n",
    "        return x"
   ]
  },
  {
   "cell_type": "code",
   "execution_count": 8,
   "metadata": {},
   "outputs": [
    {
     "name": "stdout",
     "output_type": "stream",
     "text": [
      "trnsfrmrClassifier(\n",
      "  (word_embeddings): Embedding(50261, 128)\n",
      "  (encoder_layer): TransformerEncoderLayer(\n",
      "    (self_attn): MultiheadAttention(\n",
      "      (out_proj): NonDynamicallyQuantizableLinear(in_features=128, out_features=128, bias=True)\n",
      "    )\n",
      "    (linear1): Linear(in_features=128, out_features=2048, bias=True)\n",
      "    (dropout): Dropout(p=0.1, inplace=False)\n",
      "    (linear2): Linear(in_features=2048, out_features=128, bias=True)\n",
      "    (norm1): LayerNorm((128,), eps=1e-05, elementwise_affine=True)\n",
      "    (norm2): LayerNorm((128,), eps=1e-05, elementwise_affine=True)\n",
      "    (dropout1): Dropout(p=0.1, inplace=False)\n",
      "    (dropout2): Dropout(p=0.1, inplace=False)\n",
      "  )\n",
      "  (FC0): Linear(in_features=32, out_features=1, bias=True)\n",
      "  (drop1): Dropout(p=0.5, inplace=False)\n",
      "  (FC1): Linear(in_features=128, out_features=256, bias=True)\n",
      "  (drop2): Dropout(p=0.5, inplace=False)\n",
      "  (FC2): Linear(in_features=256, out_features=101, bias=True)\n",
      "  (Relu): ReLU()\n",
      ")\n"
     ]
    }
   ],
   "source": [
    "import numpy\n",
    "from transformers import GPT2Config\n",
    "import torch.optim as optim\n",
    "\n",
    "device = torch.device('cuda' if torch.cuda.is_available() else 'cpu')\n",
    "hidden_size = 128\n",
    "dModel = 128\n",
    "numClasses = 101\n",
    "model = trnsfrmrClassifier(vocab_size=vocabSize, \n",
    "                 embedding_dim = dModel,\n",
    "                 hidden_size=hidden_size, nClasses = numClasses, padId = padId, maxLen = maxLen\n",
    "                )\n",
    "\n",
    "criterion = nn.CrossEntropyLoss()\n",
    "optimizer = optim.Adam(model.parameters(), lr = 0.005)\n",
    "lossVals = []\n",
    "model = model.to(device)\n",
    "print(model)"
   ]
  },
  {
   "cell_type": "markdown",
   "metadata": {},
   "source": [
    "## 1) Train Transformer + Feedforward Model"
   ]
  },
  {
   "cell_type": "code",
   "execution_count": 9,
   "metadata": {},
   "outputs": [
    {
     "name": "stdout",
     "output_type": "stream",
     "text": [
      "Epoch = 0. Loss = 1.3991930484771729\n",
      "Epoch = 1. Loss = 0.9954954981803894\n",
      "Epoch = 2. Loss = 1.0207548141479492\n",
      "Epoch = 3. Loss = 0.7958964109420776\n",
      "Epoch = 4. Loss = 0.8397276401519775\n",
      "Epoch = 5. Loss = 0.7711002230644226\n",
      "Epoch = 6. Loss = 0.7107096910476685\n",
      "Epoch = 7. Loss = 0.7700439095497131\n",
      "Epoch = 8. Loss = 0.7284970879554749\n",
      "Epoch = 9. Loss = 0.7565310597419739\n",
      "Epoch = 10. Loss = 0.6605159044265747\n",
      "Epoch = 11. Loss = 0.6917343139648438\n",
      "Epoch = 12. Loss = 0.5014312863349915\n",
      "Epoch = 13. Loss = 0.4372372627258301\n",
      "Epoch = 14. Loss = 0.4356791377067566\n",
      "Epoch = 15. Loss = 0.4221758544445038\n",
      "Epoch = 16. Loss = 0.46786925196647644\n",
      "Epoch = 17. Loss = 0.4719761610031128\n",
      "Epoch = 18. Loss = 0.44508063793182373\n",
      "Epoch = 19. Loss = 0.45301586389541626\n",
      "Epoch = 20. Loss = 0.4007173478603363\n",
      "Epoch = 21. Loss = 0.347006618976593\n",
      "Epoch = 22. Loss = 0.38709476590156555\n",
      "Epoch = 23. Loss = 0.3900427222251892\n",
      "Epoch = 24. Loss = 0.371925950050354\n",
      "Epoch = 25. Loss = 0.4038500487804413\n",
      "Epoch = 26. Loss = 0.4212699234485626\n",
      "Epoch = 27. Loss = 0.2950502336025238\n",
      "Epoch = 28. Loss = 0.39508503675460815\n",
      "Epoch = 29. Loss = 0.3612518608570099\n",
      "Epoch = 30. Loss = 0.29506993293762207\n",
      "Epoch = 31. Loss = 0.44553205370903015\n",
      "Epoch = 32. Loss = 0.3481176793575287\n",
      "Epoch = 33. Loss = 0.361955463886261\n",
      "Epoch = 34. Loss = 0.29680633544921875\n",
      "Epoch = 35. Loss = 0.2981923520565033\n",
      "Epoch = 36. Loss = 0.40693920850753784\n",
      "Epoch = 37. Loss = 0.33678507804870605\n",
      "Epoch = 38. Loss = 0.34924665093421936\n",
      "Epoch = 39. Loss = 0.31434404850006104\n",
      "Epoch = 40. Loss = 0.28987953066825867\n",
      "Epoch = 41. Loss = 0.27596718072891235\n",
      "Epoch = 42. Loss = 0.45680534839630127\n",
      "Epoch = 43. Loss = 0.30160069465637207\n",
      "Epoch = 44. Loss = 0.19450752437114716\n",
      "Epoch = 45. Loss = 0.3232710063457489\n",
      "Epoch = 46. Loss = 0.2492782026529312\n",
      "Epoch = 47. Loss = 0.30377116799354553\n",
      "Epoch = 48. Loss = 0.3065012991428375\n",
      "Epoch = 49. Loss = 0.22910353541374207\n",
      "Epoch = 50. Loss = 0.27048611640930176\n",
      "Epoch = 51. Loss = 0.2466168999671936\n",
      "Epoch = 52. Loss = 0.150981605052948\n",
      "Epoch = 53. Loss = 0.2012331634759903\n",
      "Epoch = 54. Loss = 0.2602422833442688\n",
      "Epoch = 55. Loss = 0.2496379315853119\n",
      "Epoch = 56. Loss = 0.24474352598190308\n",
      "Epoch = 57. Loss = 0.24038608372211456\n",
      "Epoch = 58. Loss = 0.2569160461425781\n",
      "Epoch = 59. Loss = 0.22881564497947693\n",
      "Epoch = 60. Loss = 0.2831381559371948\n",
      "Epoch = 61. Loss = 0.22079862654209137\n",
      "Epoch = 62. Loss = 0.29305940866470337\n",
      "Epoch = 63. Loss = 0.2636300027370453\n",
      "Epoch = 64. Loss = 0.30697101354599\n",
      "Epoch = 65. Loss = 0.16630209982395172\n",
      "Epoch = 66. Loss = 0.22384269535541534\n",
      "Epoch = 67. Loss = 0.2459634393453598\n",
      "Epoch = 68. Loss = 0.1942000836133957\n",
      "Epoch = 69. Loss = 0.26098549365997314\n",
      "Epoch = 70. Loss = 0.3167259693145752\n",
      "Epoch = 71. Loss = 0.3796177804470062\n",
      "Epoch = 72. Loss = 0.24020853638648987\n",
      "Epoch = 73. Loss = 0.15700417757034302\n",
      "Epoch = 74. Loss = 0.16921305656433105\n",
      "Epoch = 75. Loss = 0.2867317497730255\n",
      "Epoch = 76. Loss = 0.19721011817455292\n",
      "Epoch = 77. Loss = 0.1795395314693451\n",
      "Epoch = 78. Loss = 0.24525845050811768\n",
      "Epoch = 79. Loss = 0.19031301140785217\n",
      "Epoch = 80. Loss = 0.17799846827983856\n",
      "Epoch = 81. Loss = 0.2686353325843811\n",
      "Epoch = 82. Loss = 0.20579294860363007\n",
      "Epoch = 83. Loss = 0.2733859121799469\n",
      "Epoch = 84. Loss = 0.35007354617118835\n",
      "Epoch = 85. Loss = 0.2514510452747345\n",
      "Epoch = 86. Loss = 0.199444979429245\n",
      "Epoch = 87. Loss = 0.11916863918304443\n",
      "Epoch = 88. Loss = 0.211655393242836\n",
      "Epoch = 89. Loss = 0.2324846386909485\n",
      "Epoch = 90. Loss = 0.29681113362312317\n",
      "Epoch = 91. Loss = 0.2154330462217331\n",
      "Epoch = 92. Loss = 0.1768363118171692\n",
      "Epoch = 93. Loss = 0.23399579524993896\n",
      "Epoch = 94. Loss = 0.27823126316070557\n",
      "Epoch = 95. Loss = 0.26958948373794556\n",
      "Epoch = 96. Loss = 0.2352573573589325\n",
      "Epoch = 97. Loss = 0.23802801966667175\n",
      "Epoch = 98. Loss = 0.16509291529655457\n",
      "Epoch = 99. Loss = 0.19365015625953674\n",
      "Finished Training\n"
     ]
    }
   ],
   "source": [
    "for epoch in range(15):  # loop over the dataset multiple times\n",
    "    for data in trainLoader:\n",
    "        ids,masks,labels_ = data # masks is of dimension (batchsize,  maxLen, maxLen)\n",
    "        labels = torch.tensor([lblMap[x] for x in labels_]) \n",
    "        optimizer.zero_grad()\n",
    "        masks = masks.repeat(8,1,1) \n",
    "        outputs = model(ids,masks)\n",
    "        loss = criterion(outputs, labels)\n",
    "        loss.backward()\n",
    "        lossVals.append(loss.detach().cpu().clone().numpy())\n",
    "        optimizer.step()\n",
    "    if epoch%1 == 0:\n",
    "        print(f\"Epoch = {epoch}. Loss = {loss}\")\n",
    "print('Finished Training')"
   ]
  },
  {
   "cell_type": "markdown",
   "metadata": {},
   "source": [
    "## 2) Test LSTM + Feedforward Model"
   ]
  },
  {
   "cell_type": "code",
   "execution_count": 10,
   "metadata": {},
   "outputs": [
    {
     "name": "stdout",
     "output_type": "stream",
     "text": [
      "Classification Accuracy = 83.809%\n"
     ]
    }
   ],
   "source": [
    "model.eval() # again no gradients needed - so set mode.eval()\n",
    "correct_pred = 0\n",
    "numTst = 0\n",
    "with torch.no_grad():\n",
    "    for data in testLoader:\n",
    "        ids,masks,labels_ = data\n",
    "        masks = masks.repeat(8,1,1) \n",
    "        numTst = numTst + ids.shape[0]\n",
    "        labels = []\n",
    "        labels.append([lblMap[x] for x in labels_])\n",
    "        labels = torch.tensor(labels[0])\n",
    "        outputs = model(ids,masks)\n",
    "        _, predictions = torch.max(outputs, 1)\n",
    "        # collect the correct predictions for each class\n",
    "        for label, prediction in zip(labels, predictions):\n",
    "            if label == prediction:\n",
    "                correct_pred += 1\n",
    "\n",
    "accuracy = 100 * float(correct_pred)/ numTst\n",
    "print(f\"Classification Accuracy = {accuracy:.3f}%\")"
   ]
  },
  {
   "cell_type": "code",
   "execution_count": 11,
   "metadata": {},
   "outputs": [
    {
     "data": {
      "image/png": "[encoded data removed]",
      "text/plain": [
       "<Figure size 640x480 with 1 Axes>"
      ]
     },
     "metadata": {},
     "output_type": "display_data"
    }
   ],
   "source": [
    "import numpy as np\n",
    "fig, ax = plt.subplots(nrows = 1, ncols=1)\n",
    "ax.plot(range(len(lossVals)),lossVals)\n",
    "ax.set_xlabel('Iterations',fontsize = 15)\n",
    "ax.set_ylabel('Cross Entropy Loss', fontsize = 15)\n",
    "ax.set_title('Classification Accuracy = {:.2f}%'.format(accuracy),fontsize = 15)\n",
    "path = 'dim_{}_accry_{:.2f}len_{}_hidden_{}'.format(dModel,accuracy, maxLen,hidden_size)\n",
    "plt.savefig(path+'.pdf')"
   ]
  },
  {
   "attachments": {},
   "cell_type": "markdown",
   "metadata": {},
   "source": [
    "# SVM With LSTM \n",
    "### Instead of the 2 fully connected layers and 1 soft-max layer in the LSTM model above, we use multi-class SVM for classification below."
   ]
  },
  {
   "attachments": {},
   "cell_type": "markdown",
   "metadata": {},
   "source": [
    "## 1) Declare LSTM model and load trained weights."
   ]
  },
  {
   "cell_type": "code",
   "execution_count": 12,
   "metadata": {},
   "outputs": [
    {
     "ename": "AttributeError",
     "evalue": "module 'torch.nn' has no attribute 'FC0'",
     "output_type": "error",
     "traceback": [
      "\u001b[1;31m---------------------------------------------------------------------------\u001b[0m",
      "\u001b[1;31mAttributeError\u001b[0m                            Traceback (most recent call last)",
      "Cell \u001b[1;32mIn[12], line 13\u001b[0m\n\u001b[0;32m     10\u001b[0m         x \u001b[38;5;241m=\u001b[39m x[:, \u001b[38;5;241m-\u001b[39m\u001b[38;5;241m1\u001b[39m, :]                 \u001b[38;5;66;03m# gives two dimensional output, not three dimensional output\u001b[39;00m\n\u001b[0;32m     11\u001b[0m         \u001b[38;5;28;01mreturn\u001b[39;00m x\n\u001b[1;32m---> 13\u001b[0m modelSVM \u001b[38;5;241m=\u001b[39m \u001b[43mw2nModelSVM\u001b[49m\u001b[43m(\u001b[49m\u001b[43mvocab_size\u001b[49m\u001b[43m \u001b[49m\u001b[38;5;241;43m=\u001b[39;49m\u001b[43m \u001b[49m\u001b[43mvocabSize\u001b[49m\u001b[43m,\u001b[49m\u001b[43m \u001b[49m\n\u001b[0;32m     14\u001b[0m \u001b[43m                 \u001b[49m\u001b[43membedding_dim\u001b[49m\u001b[43m \u001b[49m\u001b[38;5;241;43m=\u001b[39;49m\u001b[43m \u001b[49m\u001b[43mdModel\u001b[49m\u001b[43m,\u001b[49m\n\u001b[0;32m     15\u001b[0m \u001b[43m                 \u001b[49m\u001b[43mhidden_size\u001b[49m\u001b[38;5;241;43m=\u001b[39;49m\u001b[43mhidden_size\u001b[49m\u001b[43m,\u001b[49m\u001b[43m \u001b[49m\u001b[43mnClasses\u001b[49m\u001b[43m \u001b[49m\u001b[38;5;241;43m=\u001b[39;49m\u001b[43m \u001b[49m\u001b[43mnumClasses\u001b[49m\n\u001b[0;32m     16\u001b[0m \u001b[43m                \u001b[49m\u001b[43m)\u001b[49m\n\u001b[0;32m     17\u001b[0m modelSVM\u001b[38;5;241m.\u001b[39mword_embeddings\u001b[38;5;241m.\u001b[39mweight\u001b[38;5;241m.\u001b[39mdata\u001b[38;5;241m.\u001b[39mcopy_((model\u001b[38;5;241m.\u001b[39mword_embeddings\u001b[38;5;241m.\u001b[39mweight))\n\u001b[0;32m     18\u001b[0m modelSVM\u001b[38;5;241m.\u001b[39mFC0\u001b[38;5;241m.\u001b[39mload_state_dict(model\u001b[38;5;241m.\u001b[39mFC0\u001b[38;5;241m.\u001b[39mstate_dict())\n",
      "Cell \u001b[1;32mIn[12], line 5\u001b[0m, in \u001b[0;36mw2nModelSVM.__init__\u001b[1;34m(self, vocab_size, embedding_dim, hidden_size, nClasses)\u001b[0m\n\u001b[0;32m      3\u001b[0m \u001b[38;5;28msuper\u001b[39m(w2nModelSVM, \u001b[38;5;28mself\u001b[39m)\u001b[38;5;241m.\u001b[39m\u001b[38;5;21m__init__\u001b[39m()\n\u001b[0;32m      4\u001b[0m \u001b[38;5;28mself\u001b[39m\u001b[38;5;241m.\u001b[39mword_embeddings \u001b[38;5;241m=\u001b[39m nn\u001b[38;5;241m.\u001b[39mEmbedding(vocab_size, embedding_dim)\n\u001b[1;32m----> 5\u001b[0m \u001b[38;5;28mself\u001b[39m\u001b[38;5;241m.\u001b[39mFC0 \u001b[38;5;241m=\u001b[39m \u001b[43mnn\u001b[49m\u001b[38;5;241;43m.\u001b[39;49m\u001b[43mFC0\u001b[49m(input_size \u001b[38;5;241m=\u001b[39m embedding_dim, hidden_size \u001b[38;5;241m=\u001b[39m hidden_size,batch_first\u001b[38;5;241m=\u001b[39m\u001b[38;5;28;01mTrue\u001b[39;00m)\n",
      "\u001b[1;31mAttributeError\u001b[0m: module 'torch.nn' has no attribute 'FC0'"
     ]
    }
   ],
   "source": [
    "class w2nModelSVM(torch.nn.Module):\n",
    "    def __init__(self,vocab_size, embedding_dim, hidden_size, nClasses):\n",
    "        super(w2nModelSVM, self).__init__()\n",
    "        self.word_embeddings = nn.Embedding(vocab_size, embedding_dim)\n",
    "        self.FC0 = nn.FC0(input_size = embedding_dim, hidden_size = hidden_size,batch_first=True)\n",
    "\n",
    "    def forward(self, x):\n",
    "        x = self.word_embeddings(x)     # output dimensions is batch size = N x sequence length x feature size\n",
    "        (x,_) = self.LSTM(x)        \n",
    "        x = x[:, -1, :]                 # gives two dimensional output, not three dimensional output\n",
    "        return x\n",
    "\n",
    "modelSVM = w2nModelSVM(vocab_size = vocabSize, \n",
    "                 embedding_dim = dModel,\n",
    "                 hidden_size=hidden_size, nClasses = numClasses\n",
    "                )\n",
    "modelSVM.word_embeddings.weight.data.copy_((model.word_embeddings.weight))\n",
    "modelSVM.FC0.load_state_dict(model.FC0.state_dict())"
   ]
  },
  {
   "attachments": {},
   "cell_type": "markdown",
   "metadata": {},
   "source": [
    "## 2) Get LSTM Embeddings for Train and Test Dataset"
   ]
  },
  {
   "cell_type": "code",
   "execution_count": 14,
   "metadata": {},
   "outputs": [],
   "source": [
    "numTrn = trainData.__len__()\n",
    "trnEmbdngs = np.zeros((numTrn,hidden_size))\n",
    "trnLbls  = []\n",
    "modelSVM.eval()\n",
    "for i, data in enumerate(trainLoader):\n",
    "    inputs,labels_ = data\n",
    "    outputs = modelSVM(inputs)\n",
    "    trnEmbdngs[i*batchSize: (i+1)*batchSize,:] = outputs.detach().clone().numpy()\n",
    "    trnLbls = trnLbls + [lblMap[x] for x in labels_]\n",
    "\n",
    "numTst = testData.__len__()\n",
    "tstEmbdngs = np.zeros((numTst,hidden_size))\n",
    "tstLbls = [] \n",
    "for i, data in enumerate(testLoader):\n",
    "    inputs,labels_ = data\n",
    "    labels =  []\n",
    "    outputs = modelSVM(inputs)\n",
    "    tstEmbdngs = outputs.detach().clone().numpy()\n",
    "    tstLbls = tstLbls + [lblMap[x] for x in labels_]"
   ]
  },
  {
   "attachments": {},
   "cell_type": "markdown",
   "metadata": {},
   "source": [
    "## 3) Accuracy using Linear SVM\n"
   ]
  },
  {
   "cell_type": "code",
   "execution_count": null,
   "metadata": {},
   "outputs": [],
   "source": [
    "from sklearn import svm\n",
    "clf = svm.SVC(decision_function_shape='ovo', kernel = 'linear')\n",
    "clf.fit(trnEmbdngs, np.asarray(trnLbls))\n",
    "TrnAccrcyLnr = clf.score(trnEmbdngs, np.asarray(trnLbls))\n",
    "TstAccrcyLnr = clf.score(tstEmbdngs,np.asarray(tstLbls))\n",
    "print(r'Train Accuracy of Linear SVM =', 100*TrnAccrcyLnr)\n",
    "print(r'Test Accuracy of Linear SVM =', 100*TstAccrcyLnr)"
   ]
  },
  {
   "attachments": {},
   "cell_type": "markdown",
   "metadata": {},
   "source": [
    "## 4) Accuracy using RBF Kernel SVM"
   ]
  },
  {
   "cell_type": "code",
   "execution_count": null,
   "metadata": {},
   "outputs": [],
   "source": [
    "clf = svm.SVC(decision_function_shape='ovo', kernel='rbf')\n",
    "clf.fit(trnEmbdngs, trnLbls)\n",
    "TrnAccrcyKrnl = clf.score(trnEmbdngs, trnLbls)\n",
    "TstAccrcyKrnl = clf.score(tstEmbdngs,tstLbls)\n",
    "print(r'Train Accuracy of Kernel SVM =', 100*TrnAccrcyKrnl)\n",
    "print(r'Test Accuracy of Kernel SVM =', 100*TstAccrcyKrnl)"
   ]
  }
 ],
 "metadata": {
  "kernelspec": {
   "display_name": "food101",
   "language": "python",
   "name": "python3"
  },
  "language_info": {
   "codemirror_mode": {
    "name": "ipython",
    "version": 3
   },
   "file_extension": ".py",
   "mimetype": "text/x-python",
   "name": "python",
   "nbconvert_exporter": "python",
   "pygments_lexer": "ipython3",
   "version": "3.12.8"
  },
  "orig_nbformat": 4
 },
 "nbformat": 4,
 "nbformat_minor": 2
}
