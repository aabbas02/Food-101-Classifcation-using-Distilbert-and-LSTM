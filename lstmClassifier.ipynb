{
 "cells": [
  {
   "cell_type": "code",
   "execution_count": 67,
   "metadata": {},
   "outputs": [
    {
     "name": "stdout",
     "output_type": "stream",
     "text": [
      "The autoreload extension is already loaded. To reload it, use:\n",
      "  %reload_ext autoreload\n"
     ]
    }
   ],
   "source": [
    "%load_ext autoreload\n",
    "%autoreload 2\n",
    "import sys\n",
    "import pandas as pd\n",
    "import numpy as np\n",
    "import transformers\n",
    "import os\n",
    "import re\n",
    "import torch\n",
    "import torch.nn as nn\n",
    "import sys\n",
    "import matplotlib.pyplot as plt"
   ]
  },
  {
   "cell_type": "markdown",
   "metadata": {},
   "source": [
    "# A) Preprocessing"
   ]
  },
  {
   "cell_type": "markdown",
   "metadata": {},
   "source": [
    "##  1. Custom Dataset Class\n",
    "#### Implement a map-style dataset from .csv files; needed because data files train_titles.csv and test_titles.csv cannot be directly passed to the dataloader"
   ]
  },
  {
   "cell_type": "code",
   "execution_count": 68,
   "metadata": {},
   "outputs": [],
   "source": [
    "import os\n",
    "import pandas as pd\n",
    "from torchvision.io import read_image\n",
    "import torch\n",
    "from torch.utils.data import Dataset\n",
    "\n",
    "class customTextDataset(Dataset):\n",
    "    def __init__(self, path, colnames, maxLen, tokenizer=None): \n",
    "        self.data =  pd.read_csv(path, names=colnames, header=None, sep = ',', index_col=False)\n",
    "        self.tokenizer = tokenizer\n",
    "        self.maxLen = maxLen\n",
    "\n",
    "    def __getitem__(self, idx):\n",
    "        sentence = self.data.loc[idx].text\n",
    "        ids = self.tokenizer(self.tokenizer.bos_token + ' ' + sentence + ' ' + self.tokenizer.eos_token,  padding = 'max_length', truncation = True, max_length = self.maxLen)['input_ids']\n",
    "\n",
    "        label = self.data.loc[idx].food\n",
    "        return torch.tensor(ids),label\n",
    " \n",
    "    def __len__(self):\n",
    "        return len(self.data)\n",
    "\n",
    "    def getHead(self):\n",
    "        print(self.data.head())"
   ]
  },
  {
   "cell_type": "markdown",
   "metadata": {},
   "source": [
    "## 2. GPT2 Tokenizer using Huggingface"
   ]
  },
  {
   "cell_type": "code",
   "execution_count": 69,
   "metadata": {},
   "outputs": [
    {
     "name": "stdout",
     "output_type": "stream",
     "text": [
      "Number of added tokens = 4\n",
      "TokenIds = (50257, 50258, 50259, 50260)\n"
     ]
    }
   ],
   "source": [
    "from torch.utils.data import DataLoader\n",
    "maxLen = 128\n",
    "batchSize = 512\n",
    "from transformers import GPT2Tokenizer\n",
    "tokenizer = GPT2Tokenizer.from_pretrained('gpt2')\n",
    "numAdded = tokenizer.add_special_tokens({'pad_token': '[PAD]', 'bos_token':'[BOS]','eos_token':'[EOS]','unk_token':'[UNK]'})\n",
    "print(f'Number of added tokens = {numAdded}')\n",
    "padId,bosId,eosId,unkId  = (tokenizer.encode(tokenizer.pad_token)[0], tokenizer.encode(tokenizer.bos_token)[0], tokenizer.encode(tokenizer.eos_token)[0], tokenizer.encode(tokenizer.unk_token)[0]) \n",
    "print(f'TokenIds = {padId, bosId, eosId,unkId}')\n",
    "vocabSize = len(tokenizer)"
   ]
  },
  {
   "cell_type": "markdown",
   "metadata": {},
   "source": [
    "## 3. Create Custom Dataloaders from  Text Dataset"
   ]
  },
  {
   "cell_type": "code",
   "execution_count": 70,
   "metadata": {},
   "outputs": [
    {
     "name": "stdout",
     "output_type": "stream",
     "text": [
      "Number of train data points  = 67972\n",
      "Number of test data points = 22716\n"
     ]
    }
   ],
   "source": [
    "trainData = customTextDataset(path = 'train_titles.csv', colnames=['image_path', 'text', 'food'], tokenizer = tokenizer,maxLen=maxLen)\n",
    "trainLoader = DataLoader(trainData,batch_size=batchSize,shuffle=True)\n",
    "print(f'Number of train data points  = {trainData.__len__()}')\n",
    "#trainData.getHead()\n",
    "testData = customTextDataset(path = 'test_titles.csv', colnames=['image_path', 'text', 'food'], tokenizer = tokenizer,maxLen=maxLen)\n",
    "testLoader = DataLoader(testData, batch_size=1, shuffle=True)\n",
    "print(f\"Number of test data points = {testData.__len__()}\")"
   ]
  },
  {
   "cell_type": "markdown",
   "metadata": {},
   "source": [
    "#### Print an example data point (tokens/tokenIds) and label"
   ]
  },
  {
   "cell_type": "code",
   "execution_count": 71,
   "metadata": {},
   "outputs": [
    {
     "name": "stdout",
     "output_type": "stream",
     "text": [
      "Encoded Text = tensor([50258,  1312,    12,   261,  7093,    25, 49957,   539, 14296,   220,\n",
      "        50259, 50257, 50257, 50257, 50257, 50257, 50257, 50257, 50257, 50257,\n",
      "        50257, 50257, 50257, 50257, 50257, 50257, 50257, 50257, 50257, 50257,\n",
      "        50257, 50257, 50257, 50257, 50257, 50257, 50257, 50257, 50257, 50257,\n",
      "        50257, 50257, 50257, 50257, 50257, 50257, 50257, 50257, 50257, 50257,\n",
      "        50257, 50257, 50257, 50257, 50257, 50257, 50257, 50257, 50257, 50257,\n",
      "        50257, 50257, 50257, 50257, 50257, 50257, 50257, 50257, 50257, 50257,\n",
      "        50257, 50257, 50257, 50257, 50257, 50257, 50257, 50257, 50257, 50257,\n",
      "        50257, 50257, 50257, 50257, 50257, 50257, 50257, 50257, 50257, 50257,\n",
      "        50257, 50257, 50257, 50257, 50257, 50257, 50257, 50257, 50257, 50257,\n",
      "        50257, 50257, 50257, 50257, 50257, 50257, 50257, 50257, 50257, 50257,\n",
      "        50257, 50257, 50257, 50257, 50257, 50257, 50257, 50257, 50257, 50257,\n",
      "        50257, 50257, 50257, 50257, 50257, 50257, 50257, 50257])\n",
      "Encoded Label = pancakes\n",
      "Check - Decoded tokens from encoded ids: \n",
      "[BOS] i-on magazine: Pancake recipes [EOS][PAD][PAD][PAD][PAD][PAD][PAD][PAD][PAD][PAD][PAD][PAD][PAD][PAD][PAD][PAD][PAD][PAD][PAD][PAD][PAD][PAD][PAD][PAD][PAD][PAD][PAD][PAD][PAD][PAD][PAD][PAD][PAD][PAD][PAD][PAD][PAD][PAD][PAD][PAD][PAD][PAD][PAD][PAD][PAD][PAD][PAD][PAD][PAD][PAD][PAD][PAD][PAD][PAD][PAD][PAD][PAD][PAD][PAD][PAD][PAD][PAD][PAD][PAD][PAD][PAD][PAD][PAD][PAD][PAD][PAD][PAD][PAD][PAD][PAD][PAD][PAD][PAD][PAD][PAD][PAD][PAD][PAD][PAD][PAD][PAD][PAD][PAD][PAD][PAD][PAD][PAD][PAD][PAD][PAD][PAD][PAD][PAD][PAD][PAD][PAD][PAD][PAD][PAD][PAD][PAD][PAD][PAD][PAD][PAD][PAD][PAD][PAD][PAD][PAD][PAD][PAD][PAD]\n"
     ]
    }
   ],
   "source": [
    "data = next(iter(trainLoader))\n",
    "print(f\"Encoded Text = {data[0][0]}\")\n",
    "print(f\"Encoded Label = {data[1][0]}\")\n",
    "print(f\"Check - Decoded tokens from encoded ids: \\n{tokenizer.decode(data[0][0])}\")"
   ]
  },
  {
   "cell_type": "markdown",
   "metadata": {},
   "source": [
    "## 4. Convert categorical labels (recipe names) to numerical labels (0,1,2,....101)"
   ]
  },
  {
   "cell_type": "code",
   "execution_count": 72,
   "metadata": {},
   "outputs": [],
   "source": [
    "labelsTrain_ = []\n",
    "for data in trainLoader:\n",
    "    labelsTrain_ = labelsTrain_ + (list(data[1]))\n",
    "  \n",
    "from collections import Counter\n",
    "labelsDict = Counter(labelsTrain_)\n",
    "keys = labelsDict.keys()\n",
    "lblMap = {x:i for i,x in enumerate(keys)}"
   ]
  },
  {
   "cell_type": "markdown",
   "metadata": {},
   "source": [
    "# B) LSTM + Feedforward Model"
   ]
  },
  {
   "cell_type": "code",
   "execution_count": 73,
   "metadata": {},
   "outputs": [],
   "source": [
    "class lstmClassifier(torch.nn.Module):\n",
    "    def __init__(self,vocab_size, embedding_dim, hidden_size, nClasses, padId, maxLen):\n",
    "        super(lstmClassifier, self).__init__()\n",
    "        self.word_embeddings = nn.Embedding(vocab_size, embedding_dim)\n",
    "        self.LSTM = nn.LSTM(input_size = embedding_dim, hidden_size = hidden_size,batch_first=True)\n",
    "        #self.bn = nn.BatchNorm1d(hidden_size)\n",
    "        self.drop1 = nn.Dropout(p = 0.5)\n",
    "        self.FC0 = nn.Linear(maxLen,1)\n",
    "        self.FC1 = nn.Linear(hidden_size,256)\n",
    "        self.drop2 = nn.Dropout(p = 0.5)\n",
    "        self.FC2 = nn.Linear(256,nClasses)\n",
    "        self.Relu = torch.nn.ReLU()\n",
    "        self.padId = padId\n",
    "\n",
    "    def forward(self, x_):\n",
    "        x = self.word_embeddings(x_) # input dimensions are (batch size, sqeuenquence length) - output dimensions are (batch size, sequence length, feature size)\n",
    "        x[x_ == self.padId,:] = 0 # set rows, where each row is of dimension equal to hidden_size, corresponding to pad id = 0\n",
    "        (x,_) = self.LSTM(x)     # dimension x = (batchSize, number of words, hidden_size)    \n",
    "        x = torch.transpose(x,1,2)\n",
    "        x = self.FC0.forward(x)\n",
    "        x = torch.squeeze(x,axis = -1)\n",
    "        x = self.drop1(x)               \n",
    "        x = self.Relu(self.FC1(x))\n",
    "        x = self.drop2(x)\n",
    "        x = self.FC2(x)\n",
    "        return x"
   ]
  },
  {
   "cell_type": "code",
   "execution_count": 74,
   "metadata": {},
   "outputs": [
    {
     "name": "stdout",
     "output_type": "stream",
     "text": [
      "lstmClassifier(\n",
      "  (word_embeddings): Embedding(50261, 128)\n",
      "  (LSTM): LSTM(128, 128, batch_first=True)\n",
      "  (drop1): Dropout(p=0.5, inplace=False)\n",
      "  (FC0): Linear(in_features=128, out_features=1, bias=True)\n",
      "  (FC1): Linear(in_features=128, out_features=256, bias=True)\n",
      "  (drop2): Dropout(p=0.5, inplace=False)\n",
      "  (FC2): Linear(in_features=256, out_features=101, bias=True)\n",
      "  (Relu): ReLU()\n",
      ")\n"
     ]
    }
   ],
   "source": [
    "import numpy\n",
    "from transformers import GPT2Config\n",
    "import torch.optim as optim\n",
    "\n",
    "device = torch.device('cuda' if torch.cuda.is_available() else 'cpu')\n",
    "hidden_size = 128\n",
    "dModel = 128\n",
    "numClasses = 101\n",
    "model = lstmClassifier(vocab_size=vocabSize, \n",
    "                 embedding_dim = dModel,\n",
    "                 hidden_size=hidden_size, nClasses = numClasses, padId = padId, maxLen = maxLen\n",
    "                )\n",
    "\n",
    "criterion = nn.CrossEntropyLoss()\n",
    "optimizer = optim.Adam(model.parameters(), lr = 0.005)\n",
    "lossVals = []\n",
    "model = model.to(device)\n",
    "print(model)"
   ]
  },
  {
   "cell_type": "markdown",
   "metadata": {},
   "source": [
    "## 1. Train LSTM + Feedforward Model"
   ]
  },
  {
   "cell_type": "code",
   "execution_count": 75,
   "metadata": {},
   "outputs": [
    {
     "name": "stdout",
     "output_type": "stream",
     "text": [
      "Epoch = 0. Loss = 1.02780020236969\n",
      "Epoch = 1. Loss = 0.9217524528503418\n",
      "Epoch = 2. Loss = 0.7743805050849915\n",
      "Finished Training\n"
     ]
    }
   ],
   "source": [
    "for epoch in range(3):  # loop over the dataset multiple times\n",
    "    for data in trainLoader:\n",
    "        inputs,labels_ = data\n",
    "        labels = torch.tensor([lblMap[x] for x in labels_])\n",
    "        optimizer.zero_grad()\n",
    "        inputs = inputs.to(device)\n",
    "        labels = labels.to(device)\n",
    "        outputs = model(inputs)\n",
    "        loss = criterion(outputs, labels)\n",
    "        loss.backward()\n",
    "        lossVals.append(loss.detach().cpu().clone().numpy())\n",
    "        optimizer.step()\n",
    "    if epoch%1 == 0:\n",
    "        print(f\"Epoch = {epoch}. Loss = {loss}\")\n",
    "print('Finished Training')"
   ]
  },
  {
   "cell_type": "markdown",
   "metadata": {},
   "source": [
    "## 2. Test LSTM + Feedforward Model"
   ]
  },
  {
   "cell_type": "code",
   "execution_count": 76,
   "metadata": {},
   "outputs": [
    {
     "name": "stdout",
     "output_type": "stream",
     "text": [
      "Classification Accuracy = 83.862%\n"
     ]
    }
   ],
   "source": [
    "model.eval() # again no gradients needed - so set mode.eval()\n",
    "correct_pred = 0\n",
    "numTst = 0\n",
    "for data in testLoader:\n",
    "    inputs, labels_ = data\n",
    "    numTst = numTst + inputs.shape[0]\n",
    "    labels = []\n",
    "    labels.append([lblMap[x] for x in labels_])\n",
    "    labels = torch.tensor(labels[0])\n",
    "    inputs = inputs.to(device)\n",
    "    labels = labels.to(device)\n",
    "    outputs = model(inputs)\n",
    "    _, predictions = torch.max(outputs, 1)\n",
    "    # collect the correct predictions for each class\n",
    "    for label, prediction in zip(labels, predictions):\n",
    "        if label == prediction:\n",
    "            correct_pred += 1\n",
    "\n",
    "accuracy = 100 * float(correct_pred)/ numTst\n",
    "print(f\"Classification Accuracy = {accuracy:.3f}%\")"
   ]
  },
  {
   "cell_type": "code",
   "execution_count": 77,
   "metadata": {},
   "outputs": [
    {
     "data": {
      "image/png": "[encoded data removed]",
      "text/plain": [
       "<Figure size 640x480 with 1 Axes>"
      ]
     },
     "metadata": {},
     "output_type": "display_data"
    }
   ],
   "source": [
    "import numpy as np\n",
    "fig, ax = plt.subplots(nrows = 1, ncols=1)\n",
    "ax.plot(range(len(lossVals)),lossVals)\n",
    "ax.set_xlabel('Iterations',fontsize = 15)\n",
    "ax.set_ylabel('Cross Entropy Loss', fontsize = 15)\n",
    "ax.set_title('Classification Accuracy = {:.2f}%'.format(accuracy),fontsize = 15)\n",
    "#path = 'dim_{}_accry_{:.2f}len_{}_hidden_{}'.format(dModel,accuracy, maxLen,hidden_size)\n",
    "#plt.savefig(path+'.pdf')"
   ]
  }
 ],
 "metadata": {
  "kernelspec": {
   "display_name": "food101",
   "language": "python",
   "name": "python3"
  },
  "language_info": {
   "codemirror_mode": {
    "name": "ipython",
    "version": 3
   },
   "file_extension": ".py",
   "mimetype": "text/x-python",
   "name": "python",
   "nbconvert_exporter": "python",
   "pygments_lexer": "ipython3",
   "version": "3.12.8"
  },
  "orig_nbformat": 4
 },
 "nbformat": 4,
 "nbformat_minor": 2
}
